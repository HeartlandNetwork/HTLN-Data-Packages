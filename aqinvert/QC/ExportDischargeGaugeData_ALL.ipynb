{
 "cells": [
  {
   "cell_type": "code",
   "execution_count": 26,
   "id": "84d7287d-ff6a-48fc-910d-9088326c98ed",
   "metadata": {},
   "outputs": [],
   "source": [
    "import pandas as pd\n",
    "import matplotlib.pyplot as plt\n",
    "import numpy as np"
   ]
  },
  {
   "cell_type": "code",
   "execution_count": 27,
   "id": "126f4ef0-d9db-4dd9-8fe1-bdace93481a4",
   "metadata": {},
   "outputs": [
    {
     "data": {
      "text/html": [
       "<div>\n",
       "<style scoped>\n",
       "    .dataframe tbody tr th:only-of-type {\n",
       "        vertical-align: middle;\n",
       "    }\n",
       "\n",
       "    .dataframe tbody tr th {\n",
       "        vertical-align: top;\n",
       "    }\n",
       "\n",
       "    .dataframe thead th {\n",
       "        text-align: right;\n",
       "    }\n",
       "</style>\n",
       "<table border=\"1\" class=\"dataframe\">\n",
       "  <thead>\n",
       "    <tr style=\"text-align: right;\">\n",
       "      <th></th>\n",
       "      <th>ParkName</th>\n",
       "      <th>ParkCode</th>\n",
       "      <th>Season</th>\n",
       "      <th>LocationID</th>\n",
       "      <th>EventID</th>\n",
       "      <th>Units</th>\n",
       "      <th>GaugeSiteNo</th>\n",
       "      <th>GaugeLocation</th>\n",
       "      <th>Discharge_cms</th>\n",
       "      <th>Comments</th>\n",
       "      <th>DETimeStamp</th>\n",
       "    </tr>\n",
       "  </thead>\n",
       "  <tbody>\n",
       "    <tr>\n",
       "      <th>0</th>\n",
       "      <td>Buffalo National River</td>\n",
       "      <td>BUFF</td>\n",
       "      <td>2006</td>\n",
       "      <td>BUFFRMINVEBM05</td>\n",
       "      <td>BUFFRMINVE2007FEB22</td>\n",
       "      <td>meters</td>\n",
       "      <td>7056000</td>\n",
       "      <td>Buffalo River near St. Joe, AR</td>\n",
       "      <td>32.28</td>\n",
       "      <td>cms - St. Joe USGS gauge</td>\n",
       "      <td>10/8/2020 15:29</td>\n",
       "    </tr>\n",
       "    <tr>\n",
       "      <th>1</th>\n",
       "      <td>Buffalo National River</td>\n",
       "      <td>BUFF</td>\n",
       "      <td>2011</td>\n",
       "      <td>BUFFRMINVEBM01</td>\n",
       "      <td>BUFFRMINVE2012Jan05</td>\n",
       "      <td>meters</td>\n",
       "      <td>7055646</td>\n",
       "      <td>Buffalo River near Boxley, AR</td>\n",
       "      <td>1.16</td>\n",
       "      <td>cms - Boxley USGS gauge</td>\n",
       "      <td>10/8/2020 15:29</td>\n",
       "    </tr>\n",
       "    <tr>\n",
       "      <th>2</th>\n",
       "      <td>Buffalo National River</td>\n",
       "      <td>BUFF</td>\n",
       "      <td>2011</td>\n",
       "      <td>BUFFRMINVEBM02</td>\n",
       "      <td>BUFFRMINVE2012Jan06</td>\n",
       "      <td>meters</td>\n",
       "      <td>7055680</td>\n",
       "      <td>Buffalo River at Pruitt, AR</td>\n",
       "      <td>1.86</td>\n",
       "      <td>cms - Pruitt USGS gauge</td>\n",
       "      <td>10/8/2020 15:29</td>\n",
       "    </tr>\n",
       "    <tr>\n",
       "      <th>3</th>\n",
       "      <td>Buffalo National River</td>\n",
       "      <td>BUFF</td>\n",
       "      <td>2011</td>\n",
       "      <td>BUFFRMINVEBM03</td>\n",
       "      <td>BUFFRMINVE2012Jan09</td>\n",
       "      <td>meters</td>\n",
       "      <td>7055680</td>\n",
       "      <td>Buffalo River at Pruitt, AR</td>\n",
       "      <td>1.44</td>\n",
       "      <td>cms - Pruitt USGS gauge</td>\n",
       "      <td>10/8/2020 15:29</td>\n",
       "    </tr>\n",
       "    <tr>\n",
       "      <th>4</th>\n",
       "      <td>Buffalo National River</td>\n",
       "      <td>BUFF</td>\n",
       "      <td>2011</td>\n",
       "      <td>BUFFRMINVEBM04</td>\n",
       "      <td>BUFFRMINVE2012Jan04</td>\n",
       "      <td>meters</td>\n",
       "      <td>7056000</td>\n",
       "      <td>Buffalo River near St. Joe, AR</td>\n",
       "      <td>25.71</td>\n",
       "      <td>cms - St. Joe USGS gauge</td>\n",
       "      <td>10/8/2020 15:29</td>\n",
       "    </tr>\n",
       "    <tr>\n",
       "      <th>...</th>\n",
       "      <td>...</td>\n",
       "      <td>...</td>\n",
       "      <td>...</td>\n",
       "      <td>...</td>\n",
       "      <td>...</td>\n",
       "      <td>...</td>\n",
       "      <td>...</td>\n",
       "      <td>...</td>\n",
       "      <td>...</td>\n",
       "      <td>...</td>\n",
       "      <td>...</td>\n",
       "    </tr>\n",
       "    <tr>\n",
       "      <th>116</th>\n",
       "      <td>Ozark National Scenic Riverways - RIVERS</td>\n",
       "      <td>OZAR</td>\n",
       "      <td>2022</td>\n",
       "      <td>OZARRMINVECM05</td>\n",
       "      <td>OZARRMINVE2022Nov03</td>\n",
       "      <td>meters</td>\n",
       "      <td>7067000</td>\n",
       "      <td>Current River at Van Buren, MO</td>\n",
       "      <td>30.58</td>\n",
       "      <td>NaN</td>\n",
       "      <td>10/5/2023 11:01</td>\n",
       "    </tr>\n",
       "    <tr>\n",
       "      <th>117</th>\n",
       "      <td>Ozark National Scenic Riverways - RIVERS</td>\n",
       "      <td>OZAR</td>\n",
       "      <td>2022</td>\n",
       "      <td>OZARRMINVECM06</td>\n",
       "      <td>OZARRMINVE2022Nov04</td>\n",
       "      <td>meters</td>\n",
       "      <td>14134500</td>\n",
       "      <td>Current River + Big Spring at/near Van Buren, MO</td>\n",
       "      <td>40.38</td>\n",
       "      <td>NaN</td>\n",
       "      <td>10/5/2023 12:00</td>\n",
       "    </tr>\n",
       "    <tr>\n",
       "      <th>118</th>\n",
       "      <td>Ozark National Scenic Riverways - RIVERS</td>\n",
       "      <td>OZAR</td>\n",
       "      <td>2022</td>\n",
       "      <td>OZARRMINVEJM01</td>\n",
       "      <td>OZARRMINVE2022Oct25</td>\n",
       "      <td>meters</td>\n",
       "      <td>7065200</td>\n",
       "      <td>Jacks Fork near Mountain View, MO</td>\n",
       "      <td>1.80</td>\n",
       "      <td>NaN</td>\n",
       "      <td>10/6/2023 10:51</td>\n",
       "    </tr>\n",
       "    <tr>\n",
       "      <th>119</th>\n",
       "      <td>Ozark National Scenic Riverways - RIVERS</td>\n",
       "      <td>OZAR</td>\n",
       "      <td>2022</td>\n",
       "      <td>OZARRMINVEJM02</td>\n",
       "      <td>OZARRMINVE2022Oct25</td>\n",
       "      <td>meters</td>\n",
       "      <td>7065200</td>\n",
       "      <td>Jacks Fork near Mountain View, MO</td>\n",
       "      <td>1.95</td>\n",
       "      <td>NaN</td>\n",
       "      <td>10/6/2023 11:56</td>\n",
       "    </tr>\n",
       "    <tr>\n",
       "      <th>120</th>\n",
       "      <td>Ozark National Scenic Riverways - RIVERS</td>\n",
       "      <td>OZAR</td>\n",
       "      <td>2022</td>\n",
       "      <td>OZARRMINVEJM03</td>\n",
       "      <td>OZARRMINVE2022Oct26</td>\n",
       "      <td>meters</td>\n",
       "      <td>7065200</td>\n",
       "      <td>Jacks Fork near Mountain View, MO</td>\n",
       "      <td>2.02</td>\n",
       "      <td>NaN</td>\n",
       "      <td>10/6/2023 12:40</td>\n",
       "    </tr>\n",
       "  </tbody>\n",
       "</table>\n",
       "<p>121 rows × 11 columns</p>\n",
       "</div>"
      ],
      "text/plain": [
       "                                     ParkName ParkCode  Season  \\\n",
       "0                      Buffalo National River     BUFF    2006   \n",
       "1                      Buffalo National River     BUFF    2011   \n",
       "2                      Buffalo National River     BUFF    2011   \n",
       "3                      Buffalo National River     BUFF    2011   \n",
       "4                      Buffalo National River     BUFF    2011   \n",
       "..                                        ...      ...     ...   \n",
       "116  Ozark National Scenic Riverways - RIVERS     OZAR    2022   \n",
       "117  Ozark National Scenic Riverways - RIVERS     OZAR    2022   \n",
       "118  Ozark National Scenic Riverways - RIVERS     OZAR    2022   \n",
       "119  Ozark National Scenic Riverways - RIVERS     OZAR    2022   \n",
       "120  Ozark National Scenic Riverways - RIVERS     OZAR    2022   \n",
       "\n",
       "         LocationID              EventID   Units  GaugeSiteNo  \\\n",
       "0    BUFFRMINVEBM05  BUFFRMINVE2007FEB22  meters      7056000   \n",
       "1    BUFFRMINVEBM01  BUFFRMINVE2012Jan05  meters      7055646   \n",
       "2    BUFFRMINVEBM02  BUFFRMINVE2012Jan06  meters      7055680   \n",
       "3    BUFFRMINVEBM03  BUFFRMINVE2012Jan09  meters      7055680   \n",
       "4    BUFFRMINVEBM04  BUFFRMINVE2012Jan04  meters      7056000   \n",
       "..              ...                  ...     ...          ...   \n",
       "116  OZARRMINVECM05  OZARRMINVE2022Nov03  meters      7067000   \n",
       "117  OZARRMINVECM06  OZARRMINVE2022Nov04  meters     14134500   \n",
       "118  OZARRMINVEJM01  OZARRMINVE2022Oct25  meters      7065200   \n",
       "119  OZARRMINVEJM02  OZARRMINVE2022Oct25  meters      7065200   \n",
       "120  OZARRMINVEJM03  OZARRMINVE2022Oct26  meters      7065200   \n",
       "\n",
       "                                         GaugeLocation  Discharge_cms  \\\n",
       "0                       Buffalo River near St. Joe, AR          32.28   \n",
       "1                        Buffalo River near Boxley, AR           1.16   \n",
       "2                          Buffalo River at Pruitt, AR           1.86   \n",
       "3                          Buffalo River at Pruitt, AR           1.44   \n",
       "4                       Buffalo River near St. Joe, AR          25.71   \n",
       "..                                                 ...            ...   \n",
       "116                    Current River at Van Buren, MO           30.58   \n",
       "117  Current River + Big Spring at/near Van Buren, MO           40.38   \n",
       "118                 Jacks Fork near Mountain View, MO            1.80   \n",
       "119                 Jacks Fork near Mountain View, MO            1.95   \n",
       "120                 Jacks Fork near Mountain View, MO            2.02   \n",
       "\n",
       "                     Comments      DETimeStamp  \n",
       "0    cms - St. Joe USGS gauge  10/8/2020 15:29  \n",
       "1     cms - Boxley USGS gauge  10/8/2020 15:29  \n",
       "2     cms - Pruitt USGS gauge  10/8/2020 15:29  \n",
       "3     cms - Pruitt USGS gauge  10/8/2020 15:29  \n",
       "4    cms - St. Joe USGS gauge  10/8/2020 15:29  \n",
       "..                        ...              ...  \n",
       "116                       NaN  10/5/2023 11:01  \n",
       "117                       NaN  10/5/2023 12:00  \n",
       "118                       NaN  10/6/2023 10:51  \n",
       "119                       NaN  10/6/2023 11:56  \n",
       "120                       NaN  10/6/2023 12:40  \n",
       "\n",
       "[121 rows x 11 columns]"
      ]
     },
     "execution_count": 27,
     "metadata": {},
     "output_type": "execute_result"
    }
   ],
   "source": [
    "df = pd.read_csv(\"ExportDischargeGaugeData_ALL.csv\")\n",
    "df"
   ]
  },
  {
   "cell_type": "code",
   "execution_count": 28,
   "id": "a478c4cc-2632-4603-81b4-0978f077abc7",
   "metadata": {},
   "outputs": [
    {
     "data": {
      "text/plain": [
       "ParkName          object\n",
       "ParkCode          object\n",
       "Season             int64\n",
       "LocationID        object\n",
       "EventID           object\n",
       "Units             object\n",
       "GaugeSiteNo        int64\n",
       "GaugeLocation     object\n",
       "Discharge_cms    float64\n",
       "Comments          object\n",
       "DETimeStamp       object\n",
       "dtype: object"
      ]
     },
     "execution_count": 28,
     "metadata": {},
     "output_type": "execute_result"
    }
   ],
   "source": [
    "df.dtypes"
   ]
  },
  {
   "cell_type": "code",
   "execution_count": 29,
   "id": "5c6427e2-2598-415b-9b7d-d016ed5f1122",
   "metadata": {},
   "outputs": [
    {
     "data": {
      "text/plain": [
       "['Buffalo National River',\n",
       " 'Herbert Hoover National Historic Site',\n",
       " 'Ozark National Scenic Riverways - RIVERS']"
      ]
     },
     "execution_count": 29,
     "metadata": {},
     "output_type": "execute_result"
    }
   ],
   "source": [
    "sorted(df['ParkName'].unique())"
   ]
  },
  {
   "cell_type": "code",
   "execution_count": 30,
   "id": "45106846-3037-4ff3-b03e-3233a5b9fedb",
   "metadata": {},
   "outputs": [
    {
     "data": {
      "image/png": "[encoded data removed]",
      "text/plain": [
       "<Figure size 640x480 with 1 Axes>"
      ]
     },
     "metadata": {},
     "output_type": "display_data"
    }
   ],
   "source": [
    "frequency = df['ParkName'].value_counts()\n",
    "\n",
    "# Plot the bar chart with increased spacing\n",
    "fig, ax = plt.subplots()\n",
    "bar_width = 0.5  # Reduce the width of the bars\n",
    "bars = ax.bar(frequency.index, frequency.values, width=bar_width, color=['blue', 'green', 'red', 'purple', 'orange'])\n",
    "ax.set_title('Frequency of Categories')\n",
    "ax.set_xlabel('Category')\n",
    "ax.set_ylabel('Frequency')\n",
    "\n",
    "# Add some padding between bars\n",
    "ax.set_xticks(range(len(frequency)))\n",
    "ax.set_xticklabels(frequency.index, rotation=45, ha='right')\n",
    "\n",
    "# Show plot with the adjusted layout\n",
    "plt.tight_layout()\n",
    "plt.show()\n"
   ]
  },
  {
   "cell_type": "code",
   "execution_count": 31,
   "id": "f4b0a0be-5a50-406b-8555-a845146b0150",
   "metadata": {},
   "outputs": [
    {
     "data": {
      "text/plain": [
       "['BUFF', 'HEHO', 'OZAR']"
      ]
     },
     "execution_count": 31,
     "metadata": {},
     "output_type": "execute_result"
    }
   ],
   "source": [
    "sorted(df['ParkCode'].unique())"
   ]
  },
  {
   "cell_type": "code",
   "execution_count": 32,
   "id": "21fc1138-f217-4a11-9289-9b24342295af",
   "metadata": {},
   "outputs": [
    {
     "data": {
      "image/png": "[encoded data removed]",
      "text/plain": [
       "<Figure size 640x480 with 1 Axes>"
      ]
     },
     "metadata": {},
     "output_type": "display_data"
    }
   ],
   "source": [
    "frequency = df['ParkCode'].value_counts()\n",
    "\n",
    "# Plot the bar chart with increased spacing\n",
    "fig, ax = plt.subplots()\n",
    "bar_width = 0.5  # Reduce the width of the bars\n",
    "bars = ax.bar(frequency.index, frequency.values, width=bar_width, color=['blue', 'green', 'red', 'purple', 'orange'])\n",
    "ax.set_title('Frequency of Categories')\n",
    "ax.set_xlabel('Category')\n",
    "ax.set_ylabel('Frequency')\n",
    "\n",
    "# Add some padding between bars\n",
    "ax.set_xticks(range(len(frequency)))\n",
    "ax.set_xticklabels(frequency.index, rotation=45, ha='right')\n",
    "\n",
    "# Show plot with the adjusted layout\n",
    "plt.tight_layout()\n",
    "plt.show()\n",
    "\n"
   ]
  },
  {
   "cell_type": "code",
   "execution_count": 33,
   "id": "f238bdc6-e479-4f19-8386-473bb52aacb7",
   "metadata": {},
   "outputs": [
    {
     "data": {
      "text/plain": [
       "[np.int64(2005),\n",
       " np.int64(2006),\n",
       " np.int64(2007),\n",
       " np.int64(2008),\n",
       " np.int64(2009),\n",
       " np.int64(2011),\n",
       " np.int64(2012),\n",
       " np.int64(2013),\n",
       " np.int64(2014),\n",
       " np.int64(2015),\n",
       " np.int64(2016),\n",
       " np.int64(2017),\n",
       " np.int64(2018),\n",
       " np.int64(2019),\n",
       " np.int64(2020),\n",
       " np.int64(2021),\n",
       " np.int64(2022),\n",
       " np.int64(2023)]"
      ]
     },
     "execution_count": 33,
     "metadata": {},
     "output_type": "execute_result"
    }
   ],
   "source": [
    "sorted(df['Season'].unique())"
   ]
  },
  {
   "cell_type": "code",
   "execution_count": 34,
   "id": "494ca7ff-99f4-426f-857a-2a3b7d8dd5f5",
   "metadata": {},
   "outputs": [
    {
     "data": {
      "image/png": "[encoded data removed]",
      "text/plain": [
       "<Figure size 640x480 with 1 Axes>"
      ]
     },
     "metadata": {},
     "output_type": "display_data"
    }
   ],
   "source": [
    "\n",
    "plt.hist(df['Season'], bins=5, edgecolor='black')\n",
    "plt.title('Histogram of Season')\n",
    "plt.xlabel('Value')\n",
    "plt.ylabel('Frequency')\n",
    "plt.show()\n",
    "\n"
   ]
  },
  {
   "cell_type": "code",
   "execution_count": 35,
   "id": "090c6d74-1583-4e1b-832c-659c01b17db8",
   "metadata": {},
   "outputs": [
    {
     "data": {
      "text/plain": [
       "['BUFFRMINVEBM01',\n",
       " 'BUFFRMINVEBM02',\n",
       " 'BUFFRMINVEBM03',\n",
       " 'BUFFRMINVEBM04',\n",
       " 'BUFFRMINVEBM05',\n",
       " 'BUFFRMINVEBM06',\n",
       " 'BUFFRMINVEBT13',\n",
       " 'BUFFRMINVEBT20',\n",
       " 'HEHOAqubug01',\n",
       " 'OZARRMINVECM01',\n",
       " 'OZARRMINVECM02',\n",
       " 'OZARRMINVECM03',\n",
       " 'OZARRMINVECM04',\n",
       " 'OZARRMINVECM05',\n",
       " 'OZARRMINVECM06',\n",
       " 'OZARRMINVEJM01',\n",
       " 'OZARRMINVEJM02',\n",
       " 'OZARRMINVEJM03']"
      ]
     },
     "execution_count": 35,
     "metadata": {},
     "output_type": "execute_result"
    }
   ],
   "source": [
    "sorted(df['LocationID'].unique())"
   ]
  },
  {
   "cell_type": "code",
   "execution_count": 36,
   "id": "e83a7832-77e2-4e25-91b4-3ac8e99d2420",
   "metadata": {},
   "outputs": [
    {
     "data": {
      "text/plain": [
       "['BUFFRMINVE2007FEB22',\n",
       " 'BUFFRMINVE2012Jan04',\n",
       " 'BUFFRMINVE2012Jan05',\n",
       " 'BUFFRMINVE2012Jan06',\n",
       " 'BUFFRMINVE2012Jan09',\n",
       " 'BUFFRMINVE2012Jan10',\n",
       " 'BUFFRMINVE2012Jan18',\n",
       " 'BUFFRMINVE2013Dec04',\n",
       " 'BUFFRMINVE2014Feb19',\n",
       " 'BUFFRMINVE2015Dec09',\n",
       " 'BUFFRMINVE2015Dec17',\n",
       " 'BUFFRMINVE2015Dec18',\n",
       " 'BUFFRMINVE2015Nov23',\n",
       " 'BUFFRMINVE2015Nov24',\n",
       " 'BUFFRMINVE2017Dec01',\n",
       " 'BUFFRMINVE2017Dec08',\n",
       " 'BUFFRMINVE2017Nov16',\n",
       " 'BUFFRMINVE2017Nov29',\n",
       " 'BUFFRMINVE2017Nov30',\n",
       " 'BUFFRMINVE2019Nov05',\n",
       " 'BUFFRMINVE2019Nov18',\n",
       " 'BUFFRMINVE2019Nov19',\n",
       " 'BUFFRMINVE2019Nov20',\n",
       " 'BUFFRMINVE2019Nov21',\n",
       " 'BUFFRMINVE2021Nov01',\n",
       " 'BUFFRMINVE2021Nov02',\n",
       " 'BUFFRMINVE2021Nov03',\n",
       " 'BUFFRMINVE2021Nov08',\n",
       " 'BUFFRMINVE2021Nov09',\n",
       " 'BUFFRMINVE2021Nov10',\n",
       " 'BUFFRMINVE2023Nov02',\n",
       " 'BUFFRMINVE2023Nov03',\n",
       " 'BUFFRMINVE2023Nov06',\n",
       " 'BUFFRMINVE2023Nov07',\n",
       " 'BUFFRMINVE2023Nov08',\n",
       " 'BUFFRMINVE2023Nov14',\n",
       " 'HEHOAquBug2014Aug01',\n",
       " 'HEHOAqubug2008Jul07',\n",
       " 'HEHOAqubug2011Jul11',\n",
       " 'OZARRMINVE2006DEC18',\n",
       " 'OZARRMINVE2006DEC19',\n",
       " 'OZARRMINVE2006JAN18',\n",
       " 'OZARRMINVE2006JAN20',\n",
       " 'OZARRMINVE2006JAN24',\n",
       " 'OZARRMINVE2006NOV14',\n",
       " 'OZARRMINVE2007Nov01',\n",
       " 'OZARRMINVE2007Nov02',\n",
       " 'OZARRMINVE2007Nov05',\n",
       " 'OZARRMINVE2008Nov05',\n",
       " 'OZARRMINVE2008Nov20',\n",
       " 'OZARRMINVE2008Nov21',\n",
       " 'OZARRMINVE2009Dec02',\n",
       " 'OZARRMINVE2009Dec03',\n",
       " 'OZARRMINVE2009Nov12',\n",
       " 'OZARRMINVE2012Dec04',\n",
       " 'OZARRMINVE2012Dec05',\n",
       " 'OZARRMINVE2012Nov13',\n",
       " 'OZARRMINVE2012Nov27',\n",
       " 'OZARRMINVE2012Nov28',\n",
       " 'OZARRMINVE2012Nov29',\n",
       " 'OZARRMINVE2014Nov05',\n",
       " 'OZARRMINVE2014Nov06',\n",
       " 'OZARRMINVE2014Nov12',\n",
       " 'OZARRMINVE2014Nov13',\n",
       " 'OZARRMINVE2014Nov18',\n",
       " 'OZARRMINVE2014Nov19',\n",
       " 'OZARRMINVE2016Nov01',\n",
       " 'OZARRMINVE2016Nov02',\n",
       " 'OZARRMINVE2016Nov03',\n",
       " 'OZARRMINVE2016Nov04',\n",
       " 'OZARRMINVE2016Nov09',\n",
       " 'OZARRMINVE2016Nov10',\n",
       " 'OZARRMINVE2018Nov07',\n",
       " 'OZARRMINVE2018Nov08',\n",
       " 'OZARRMINVE2018Nov13',\n",
       " 'OZARRMINVE2018Nov19',\n",
       " 'OZARRMINVE2018Nov20',\n",
       " 'OZARRMINVE2020Dec08',\n",
       " 'OZARRMINVE2020Dec10',\n",
       " 'OZARRMINVE2020Dec11',\n",
       " 'OZARRMINVE2020Nov17',\n",
       " 'OZARRMINVE2020Nov19',\n",
       " 'OZARRMINVE2020Nov30',\n",
       " 'OZARRMINVE2021Jan05',\n",
       " 'OZARRMINVE2021Jan08',\n",
       " 'OZARRMINVE2021Jan11',\n",
       " 'OZARRMINVE2022Nov03',\n",
       " 'OZARRMINVE2022Nov04',\n",
       " 'OZARRMINVE2022Oct25',\n",
       " 'OZARRMINVE2022Oct26',\n",
       " 'OZARRMINVE2022Oct27',\n",
       " 'OZARRMINVE2022Oct28']"
      ]
     },
     "execution_count": 36,
     "metadata": {},
     "output_type": "execute_result"
    }
   ],
   "source": [
    "sorted(df['EventID'].unique())"
   ]
  },
  {
   "cell_type": "code",
   "execution_count": 37,
   "id": "6296922c-724d-4946-abdf-1ea75d069cfa",
   "metadata": {},
   "outputs": [
    {
     "data": {
      "text/plain": [
       "['meters']"
      ]
     },
     "execution_count": 37,
     "metadata": {},
     "output_type": "execute_result"
    }
   ],
   "source": [
    "sorted(df['Units'].unique())"
   ]
  },
  {
   "cell_type": "code",
   "execution_count": 38,
   "id": "d88f376b-3778-4e15-96b2-906b30c78563",
   "metadata": {},
   "outputs": [
    {
     "data": {
      "text/plain": [
       "[np.int64(5464942),\n",
       " np.int64(7055646),\n",
       " np.int64(7055680),\n",
       " np.int64(7055790),\n",
       " np.int64(7056000),\n",
       " np.int64(7056515),\n",
       " np.int64(7056700),\n",
       " np.int64(7064440),\n",
       " np.int64(7064533),\n",
       " np.int64(7065200),\n",
       " np.int64(7067000),\n",
       " np.int64(7067500),\n",
       " np.int64(14111470),\n",
       " np.int64(14134500)]"
      ]
     },
     "execution_count": 38,
     "metadata": {},
     "output_type": "execute_result"
    }
   ],
   "source": [
    "sorted(df['GaugeSiteNo'].unique())"
   ]
  },
  {
   "cell_type": "code",
   "execution_count": 39,
   "id": "b3edc153-ccd5-4276-9779-e37ba8e246ec",
   "metadata": {},
   "outputs": [
    {
     "data": {
      "image/png": "[encoded data removed]",
      "text/plain": [
       "<Figure size 640x480 with 1 Axes>"
      ]
     },
     "metadata": {},
     "output_type": "display_data"
    }
   ],
   "source": [
    "plt.hist(df['GaugeSiteNo'], bins=10, edgecolor='black')\n",
    "plt.title('Histogram of GaugeSiteNo')\n",
    "plt.xlabel('Value')\n",
    "plt.ylabel('Frequency')\n",
    "plt.show()"
   ]
  },
  {
   "cell_type": "code",
   "execution_count": 40,
   "id": "6d70b891-1693-4edb-acf2-b618553a18f0",
   "metadata": {},
   "outputs": [
    {
     "data": {
      "text/plain": [
       "['Bear Creek near Silver Hill, AR',\n",
       " 'Big Creek near Mt. Judea, AR',\n",
       " 'Big Spring near Van Buren, MO',\n",
       " 'Buffalo River at Pruitt + Big Creek near Mt. Judea AR',\n",
       " 'Buffalo River at Pruitt, AR',\n",
       " 'Buffalo River near Boxley, AR',\n",
       " 'Buffalo River near Harriet, AR',\n",
       " 'Buffalo River near St. Joe, AR',\n",
       " 'Current River + Big Spring at/near Van Buren, MO\\xa0',\n",
       " 'Current River above Akers, MO\\xa0',\n",
       " 'Current River at Montauk State Park, MO\\xa0',\n",
       " 'Current River at Van Buren, MO\\xa0',\n",
       " 'Hoover Nat Hist Site, West Branch, IA',\n",
       " 'Jacks Fork near Mountain View, MO\\xa0']"
      ]
     },
     "execution_count": 40,
     "metadata": {},
     "output_type": "execute_result"
    }
   ],
   "source": [
    "sorted(df['GaugeLocation'].unique())"
   ]
  },
  {
   "cell_type": "code",
   "execution_count": 41,
   "id": "a88ab8b0-985a-467c-ac71-d03f8093c718",
   "metadata": {},
   "outputs": [
    {
     "data": {
      "image/png": "[encoded data removed]",
      "text/plain": [
       "<Figure size 640x480 with 1 Axes>"
      ]
     },
     "metadata": {},
     "output_type": "display_data"
    }
   ],
   "source": [
    "plt.hist(df['Discharge_cms'], bins=10, edgecolor='black')\n",
    "plt.title('Histogram of Discharge_cms')\n",
    "plt.xlabel('Value')\n",
    "plt.ylabel('Frequency')\n",
    "plt.show()"
   ]
  },
  {
   "cell_type": "code",
   "execution_count": 42,
   "id": "6c5fa7b0-9a19-47c0-92b8-0e1c00e442bd",
   "metadata": {},
   "outputs": [],
   "source": [
    "df['Comments'] = df['Comments'].astype(str)"
   ]
  },
  {
   "cell_type": "code",
   "execution_count": 43,
   "id": "8b87022b-dab5-40c6-bcd7-4a08a21df630",
   "metadata": {},
   "outputs": [
    {
     "data": {
      "text/plain": [
       "['11.92 (Pruitt) + 0.17 (Big Creek)',\n",
       " 'Akers',\n",
       " 'Akers (cms)',\n",
       " 'BM03 2015 also entered as Pruitt (11.92) guage + Big Cr (0.17) guage',\n",
       " 'Bear Creek USGS gauge',\n",
       " 'Extrapolated; based on akers gage and actual discharge in 2008.',\n",
       " 'Hoover Creek (cms)',\n",
       " 'Montauk',\n",
       " 'Montauk (cms)',\n",
       " 'Mtn. View (cms)',\n",
       " 'Pruitt USGS gauge, Carver gauge = 6.7ft',\n",
       " 'Pruitt guage only; Big Cr guage no longer collecting data',\n",
       " 'Pruitt only; Big Cr guage no longer taking data',\n",
       " 'Pruitt only; Big Cr guage no longer taking discharge',\n",
       " 'St. Joe USGS gauge',\n",
       " 'VB=25.94 BS=9.99',\n",
       " 'Van Buren',\n",
       " 'Van Buren (22.09) + Big Spring (8.61)',\n",
       " 'Van Buren (cms)',\n",
       " 'Van Buren + Big Spring (cms)',\n",
       " 'Van Buren Gage',\n",
       " 'VanBuren Gage=25.03',\n",
       " 'VanBuren Gage=25.32',\n",
       " 'cms',\n",
       " 'cms - BS only',\n",
       " 'cms - Bear Creek USGS gauge',\n",
       " 'cms - Boxley USGS gauge',\n",
       " 'cms - Harriett USGS gauge',\n",
       " 'cms - Pruitt USGS gauge',\n",
       " 'cms - St. Joe USGS gauge',\n",
       " 'cms - VB + Big Spring',\n",
       " 'm3/sec; Van Buren Gage',\n",
       " 'm3/sec; Van Buren gage',\n",
       " 'm3/sec; Van Buren+Big Spring',\n",
       " 'm3/sec; extrapolated based on Akers gage and acutal discharge in 2008',\n",
       " 'nan']"
      ]
     },
     "execution_count": 43,
     "metadata": {},
     "output_type": "execute_result"
    }
   ],
   "source": [
    "sorted(df['Comments'].unique())"
   ]
  },
  {
   "cell_type": "code",
   "execution_count": 44,
   "id": "76bf5b12-8687-4780-bb8c-4a4d0aa57d6d",
   "metadata": {},
   "outputs": [],
   "source": [
    "# Omitted DETimeStamp in the QC review"
   ]
  }
 ],
 "metadata": {
  "kernelspec": {
   "display_name": "Python 3 (ipykernel)",
   "language": "python",
   "name": "python3"
  },
  "language_info": {
   "codemirror_mode": {
    "name": "ipython",
    "version": 3
   },
   "file_extension": ".py",
   "mimetype": "text/x-python",
   "name": "python",
   "nbconvert_exporter": "python",
   "pygments_lexer": "ipython3",
   "version": "3.10.15"
  }
 },
 "nbformat": 4,
 "nbformat_minor": 5
}
