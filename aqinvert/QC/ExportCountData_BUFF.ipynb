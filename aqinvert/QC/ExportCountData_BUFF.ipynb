{
 "cells": [
  {
   "cell_type": "code",
   "execution_count": 307,
   "id": "84d7287d-ff6a-48fc-910d-9088326c98ed",
   "metadata": {},
   "outputs": [],
   "source": [
    "import pandas as pd\n",
    "import matplotlib.pyplot as plt\n",
    "import numpy as np"
   ]
  },
  {
   "cell_type": "code",
   "execution_count": 308,
   "id": "126f4ef0-d9db-4dd9-8fe1-bdace93481a4",
   "metadata": {},
   "outputs": [
    {
     "data": {
      "text/html": [
       "<div>\n",
       "<style scoped>\n",
       "    .dataframe tbody tr th:only-of-type {\n",
       "        vertical-align: middle;\n",
       "    }\n",
       "\n",
       "    .dataframe tbody tr th {\n",
       "        vertical-align: top;\n",
       "    }\n",
       "\n",
       "    .dataframe thead th {\n",
       "        text-align: right;\n",
       "    }\n",
       "</style>\n",
       "<table border=\"1\" class=\"dataframe\">\n",
       "  <thead>\n",
       "    <tr style=\"text-align: right;\">\n",
       "      <th></th>\n",
       "      <th>ParkName</th>\n",
       "      <th>ParkCode</th>\n",
       "      <th>Season</th>\n",
       "      <th>LocationID</th>\n",
       "      <th>StreamName</th>\n",
       "      <th>TributaryName</th>\n",
       "      <th>EventID</th>\n",
       "      <th>RiffleNo</th>\n",
       "      <th>Replicate</th>\n",
       "      <th>Taxon_EML</th>\n",
       "      <th>...</th>\n",
       "      <th>LevelOfProtection</th>\n",
       "      <th>LargeRare</th>\n",
       "      <th>RepCount</th>\n",
       "      <th>PerSample_LREq1</th>\n",
       "      <th>PerSample_Inv</th>\n",
       "      <th>RepCount_Calc</th>\n",
       "      <th>Note</th>\n",
       "      <th>FlaggedData_YN</th>\n",
       "      <th>OpsReviewFlaggedData_Comment</th>\n",
       "      <th>DETimeStamp</th>\n",
       "    </tr>\n",
       "  </thead>\n",
       "  <tbody>\n",
       "    <tr>\n",
       "      <th>0</th>\n",
       "      <td>Buffalo National River</td>\n",
       "      <td>BUFF</td>\n",
       "      <td>2005</td>\n",
       "      <td>BUFFRMINVEBM02</td>\n",
       "      <td>Buffalo River</td>\n",
       "      <td>NaN</td>\n",
       "      <td>BUFFRMINVE2005NOV29</td>\n",
       "      <td>2</td>\n",
       "      <td>L</td>\n",
       "      <td>Psephenus</td>\n",
       "      <td>...</td>\n",
       "      <td>NP</td>\n",
       "      <td>0</td>\n",
       "      <td>22</td>\n",
       "      <td>100</td>\n",
       "      <td>1.0</td>\n",
       "      <td>22.0</td>\n",
       "      <td>NaN</td>\n",
       "      <td>0</td>\n",
       "      <td>NaN</td>\n",
       "      <td>10/5/2020 11:44</td>\n",
       "    </tr>\n",
       "    <tr>\n",
       "      <th>1</th>\n",
       "      <td>Buffalo National River</td>\n",
       "      <td>BUFF</td>\n",
       "      <td>2005</td>\n",
       "      <td>BUFFRMINVEBM02</td>\n",
       "      <td>Buffalo River</td>\n",
       "      <td>NaN</td>\n",
       "      <td>BUFFRMINVE2005NOV29</td>\n",
       "      <td>2</td>\n",
       "      <td>L</td>\n",
       "      <td>Caenis</td>\n",
       "      <td>...</td>\n",
       "      <td>NP</td>\n",
       "      <td>0</td>\n",
       "      <td>3</td>\n",
       "      <td>100</td>\n",
       "      <td>1.0</td>\n",
       "      <td>3.0</td>\n",
       "      <td>NaN</td>\n",
       "      <td>0</td>\n",
       "      <td>NaN</td>\n",
       "      <td>10/5/2020 11:44</td>\n",
       "    </tr>\n",
       "    <tr>\n",
       "      <th>2</th>\n",
       "      <td>Buffalo National River</td>\n",
       "      <td>BUFF</td>\n",
       "      <td>2005</td>\n",
       "      <td>BUFFRMINVEBM02</td>\n",
       "      <td>Buffalo River</td>\n",
       "      <td>NaN</td>\n",
       "      <td>BUFFRMINVE2005NOV29</td>\n",
       "      <td>2</td>\n",
       "      <td>L</td>\n",
       "      <td>Eurylophella</td>\n",
       "      <td>...</td>\n",
       "      <td>NP</td>\n",
       "      <td>0</td>\n",
       "      <td>4</td>\n",
       "      <td>100</td>\n",
       "      <td>1.0</td>\n",
       "      <td>4.0</td>\n",
       "      <td>NaN</td>\n",
       "      <td>0</td>\n",
       "      <td>NaN</td>\n",
       "      <td>10/5/2020 11:44</td>\n",
       "    </tr>\n",
       "    <tr>\n",
       "      <th>3</th>\n",
       "      <td>Buffalo National River</td>\n",
       "      <td>BUFF</td>\n",
       "      <td>2005</td>\n",
       "      <td>BUFFRMINVEBM02</td>\n",
       "      <td>Buffalo River</td>\n",
       "      <td>NaN</td>\n",
       "      <td>BUFFRMINVE2005NOV29</td>\n",
       "      <td>2</td>\n",
       "      <td>L</td>\n",
       "      <td>Heptageniidae</td>\n",
       "      <td>...</td>\n",
       "      <td>NP</td>\n",
       "      <td>0</td>\n",
       "      <td>5</td>\n",
       "      <td>100</td>\n",
       "      <td>1.0</td>\n",
       "      <td>5.0</td>\n",
       "      <td>NaN</td>\n",
       "      <td>0</td>\n",
       "      <td>NaN</td>\n",
       "      <td>10/5/2020 11:44</td>\n",
       "    </tr>\n",
       "    <tr>\n",
       "      <th>4</th>\n",
       "      <td>Buffalo National River</td>\n",
       "      <td>BUFF</td>\n",
       "      <td>2005</td>\n",
       "      <td>BUFFRMINVEBM02</td>\n",
       "      <td>Buffalo River</td>\n",
       "      <td>NaN</td>\n",
       "      <td>BUFFRMINVE2005NOV29</td>\n",
       "      <td>2</td>\n",
       "      <td>L</td>\n",
       "      <td>Stenacron</td>\n",
       "      <td>...</td>\n",
       "      <td>NP</td>\n",
       "      <td>0</td>\n",
       "      <td>2</td>\n",
       "      <td>100</td>\n",
       "      <td>1.0</td>\n",
       "      <td>2.0</td>\n",
       "      <td>NaN</td>\n",
       "      <td>0</td>\n",
       "      <td>NaN</td>\n",
       "      <td>10/5/2020 11:44</td>\n",
       "    </tr>\n",
       "    <tr>\n",
       "      <th>...</th>\n",
       "      <td>...</td>\n",
       "      <td>...</td>\n",
       "      <td>...</td>\n",
       "      <td>...</td>\n",
       "      <td>...</td>\n",
       "      <td>...</td>\n",
       "      <td>...</td>\n",
       "      <td>...</td>\n",
       "      <td>...</td>\n",
       "      <td>...</td>\n",
       "      <td>...</td>\n",
       "      <td>...</td>\n",
       "      <td>...</td>\n",
       "      <td>...</td>\n",
       "      <td>...</td>\n",
       "      <td>...</td>\n",
       "      <td>...</td>\n",
       "      <td>...</td>\n",
       "      <td>...</td>\n",
       "      <td>...</td>\n",
       "      <td>...</td>\n",
       "    </tr>\n",
       "    <tr>\n",
       "      <th>26123</th>\n",
       "      <td>Buffalo National River</td>\n",
       "      <td>BUFF</td>\n",
       "      <td>2023</td>\n",
       "      <td>BUFFRMINVEBT27</td>\n",
       "      <td>Buffalo River</td>\n",
       "      <td>Clabber Creek</td>\n",
       "      <td>BUFFRMINVE2023Nov03</td>\n",
       "      <td>3</td>\n",
       "      <td>R</td>\n",
       "      <td>Cheumatopsyche</td>\n",
       "      <td>...</td>\n",
       "      <td>NP</td>\n",
       "      <td>0</td>\n",
       "      <td>12</td>\n",
       "      <td>100</td>\n",
       "      <td>1.0</td>\n",
       "      <td>12.0</td>\n",
       "      <td>NaN</td>\n",
       "      <td>0</td>\n",
       "      <td>NaN</td>\n",
       "      <td>4/10/2024 10:54</td>\n",
       "    </tr>\n",
       "    <tr>\n",
       "      <th>26124</th>\n",
       "      <td>Buffalo National River</td>\n",
       "      <td>BUFF</td>\n",
       "      <td>2023</td>\n",
       "      <td>BUFFRMINVEBT27</td>\n",
       "      <td>Buffalo River</td>\n",
       "      <td>Clabber Creek</td>\n",
       "      <td>BUFFRMINVE2023Nov03</td>\n",
       "      <td>3</td>\n",
       "      <td>R</td>\n",
       "      <td>Hydroptila</td>\n",
       "      <td>...</td>\n",
       "      <td>NP</td>\n",
       "      <td>0</td>\n",
       "      <td>1</td>\n",
       "      <td>100</td>\n",
       "      <td>1.0</td>\n",
       "      <td>1.0</td>\n",
       "      <td>NaN</td>\n",
       "      <td>0</td>\n",
       "      <td>NaN</td>\n",
       "      <td>4/10/2024 10:54</td>\n",
       "    </tr>\n",
       "    <tr>\n",
       "      <th>26125</th>\n",
       "      <td>Buffalo National River</td>\n",
       "      <td>BUFF</td>\n",
       "      <td>2023</td>\n",
       "      <td>BUFFRMINVEBT27</td>\n",
       "      <td>Buffalo River</td>\n",
       "      <td>Clabber Creek</td>\n",
       "      <td>BUFFRMINVE2023Nov03</td>\n",
       "      <td>3</td>\n",
       "      <td>R</td>\n",
       "      <td>Setodes</td>\n",
       "      <td>...</td>\n",
       "      <td>NP</td>\n",
       "      <td>0</td>\n",
       "      <td>1</td>\n",
       "      <td>100</td>\n",
       "      <td>1.0</td>\n",
       "      <td>1.0</td>\n",
       "      <td>NaN</td>\n",
       "      <td>0</td>\n",
       "      <td>NaN</td>\n",
       "      <td>4/10/2024 10:54</td>\n",
       "    </tr>\n",
       "    <tr>\n",
       "      <th>26126</th>\n",
       "      <td>Buffalo National River</td>\n",
       "      <td>BUFF</td>\n",
       "      <td>2023</td>\n",
       "      <td>BUFFRMINVEBT27</td>\n",
       "      <td>Buffalo River</td>\n",
       "      <td>Clabber Creek</td>\n",
       "      <td>BUFFRMINVE2023Nov03</td>\n",
       "      <td>3</td>\n",
       "      <td>R</td>\n",
       "      <td>Corbicula</td>\n",
       "      <td>...</td>\n",
       "      <td>NP</td>\n",
       "      <td>0</td>\n",
       "      <td>2</td>\n",
       "      <td>100</td>\n",
       "      <td>1.0</td>\n",
       "      <td>2.0</td>\n",
       "      <td>NaN</td>\n",
       "      <td>0</td>\n",
       "      <td>NaN</td>\n",
       "      <td>4/10/2024 10:54</td>\n",
       "    </tr>\n",
       "    <tr>\n",
       "      <th>26127</th>\n",
       "      <td>Buffalo National River</td>\n",
       "      <td>BUFF</td>\n",
       "      <td>2023</td>\n",
       "      <td>BUFFRMINVEBT27</td>\n",
       "      <td>Buffalo River</td>\n",
       "      <td>Clabber Creek</td>\n",
       "      <td>BUFFRMINVE2023Nov03</td>\n",
       "      <td>3</td>\n",
       "      <td>R</td>\n",
       "      <td>Pisidium</td>\n",
       "      <td>...</td>\n",
       "      <td>NP</td>\n",
       "      <td>0</td>\n",
       "      <td>1</td>\n",
       "      <td>100</td>\n",
       "      <td>1.0</td>\n",
       "      <td>1.0</td>\n",
       "      <td>NaN</td>\n",
       "      <td>0</td>\n",
       "      <td>NaN</td>\n",
       "      <td>4/10/2024 10:54</td>\n",
       "    </tr>\n",
       "  </tbody>\n",
       "</table>\n",
       "<p>26128 rows × 30 columns</p>\n",
       "</div>"
      ],
      "text/plain": [
       "                     ParkName ParkCode  Season      LocationID     StreamName  \\\n",
       "0      Buffalo National River     BUFF    2005  BUFFRMINVEBM02  Buffalo River   \n",
       "1      Buffalo National River     BUFF    2005  BUFFRMINVEBM02  Buffalo River   \n",
       "2      Buffalo National River     BUFF    2005  BUFFRMINVEBM02  Buffalo River   \n",
       "3      Buffalo National River     BUFF    2005  BUFFRMINVEBM02  Buffalo River   \n",
       "4      Buffalo National River     BUFF    2005  BUFFRMINVEBM02  Buffalo River   \n",
       "...                       ...      ...     ...             ...            ...   \n",
       "26123  Buffalo National River     BUFF    2023  BUFFRMINVEBT27  Buffalo River   \n",
       "26124  Buffalo National River     BUFF    2023  BUFFRMINVEBT27  Buffalo River   \n",
       "26125  Buffalo National River     BUFF    2023  BUFFRMINVEBT27  Buffalo River   \n",
       "26126  Buffalo National River     BUFF    2023  BUFFRMINVEBT27  Buffalo River   \n",
       "26127  Buffalo National River     BUFF    2023  BUFFRMINVEBT27  Buffalo River   \n",
       "\n",
       "       TributaryName              EventID  RiffleNo Replicate       Taxon_EML  \\\n",
       "0                NaN  BUFFRMINVE2005NOV29         2         L       Psephenus   \n",
       "1                NaN  BUFFRMINVE2005NOV29         2         L          Caenis   \n",
       "2                NaN  BUFFRMINVE2005NOV29         2         L    Eurylophella   \n",
       "3                NaN  BUFFRMINVE2005NOV29         2         L   Heptageniidae   \n",
       "4                NaN  BUFFRMINVE2005NOV29         2         L       Stenacron   \n",
       "...              ...                  ...       ...       ...             ...   \n",
       "26123  Clabber Creek  BUFFRMINVE2023Nov03         3         R  Cheumatopsyche   \n",
       "26124  Clabber Creek  BUFFRMINVE2023Nov03         3         R      Hydroptila   \n",
       "26125  Clabber Creek  BUFFRMINVE2023Nov03         3         R         Setodes   \n",
       "26126  Clabber Creek  BUFFRMINVE2023Nov03         3         R       Corbicula   \n",
       "26127  Clabber Creek  BUFFRMINVE2023Nov03         3         R        Pisidium   \n",
       "\n",
       "       ... LevelOfProtection  LargeRare RepCount PerSample_LREq1  \\\n",
       "0      ...                NP          0       22             100   \n",
       "1      ...                NP          0        3             100   \n",
       "2      ...                NP          0        4             100   \n",
       "3      ...                NP          0        5             100   \n",
       "4      ...                NP          0        2             100   \n",
       "...    ...               ...        ...      ...             ...   \n",
       "26123  ...                NP          0       12             100   \n",
       "26124  ...                NP          0        1             100   \n",
       "26125  ...                NP          0        1             100   \n",
       "26126  ...                NP          0        2             100   \n",
       "26127  ...                NP          0        1             100   \n",
       "\n",
       "      PerSample_Inv RepCount_Calc Note FlaggedData_YN  \\\n",
       "0               1.0          22.0  NaN              0   \n",
       "1               1.0           3.0  NaN              0   \n",
       "2               1.0           4.0  NaN              0   \n",
       "3               1.0           5.0  NaN              0   \n",
       "4               1.0           2.0  NaN              0   \n",
       "...             ...           ...  ...            ...   \n",
       "26123           1.0          12.0  NaN              0   \n",
       "26124           1.0           1.0  NaN              0   \n",
       "26125           1.0           1.0  NaN              0   \n",
       "26126           1.0           2.0  NaN              0   \n",
       "26127           1.0           1.0  NaN              0   \n",
       "\n",
       "       OpsReviewFlaggedData_Comment      DETimeStamp  \n",
       "0                               NaN  10/5/2020 11:44  \n",
       "1                               NaN  10/5/2020 11:44  \n",
       "2                               NaN  10/5/2020 11:44  \n",
       "3                               NaN  10/5/2020 11:44  \n",
       "4                               NaN  10/5/2020 11:44  \n",
       "...                             ...              ...  \n",
       "26123                           NaN  4/10/2024 10:54  \n",
       "26124                           NaN  4/10/2024 10:54  \n",
       "26125                           NaN  4/10/2024 10:54  \n",
       "26126                           NaN  4/10/2024 10:54  \n",
       "26127                           NaN  4/10/2024 10:54  \n",
       "\n",
       "[26128 rows x 30 columns]"
      ]
     },
     "execution_count": 308,
     "metadata": {},
     "output_type": "execute_result"
    }
   ],
   "source": [
    "df = pd.read_csv(\"ExportCountData_BUFF.csv\")\n",
    "df"
   ]
  },
  {
   "cell_type": "code",
   "execution_count": 309,
   "id": "a478c4cc-2632-4603-81b4-0978f077abc7",
   "metadata": {},
   "outputs": [
    {
     "data": {
      "text/plain": [
       "ParkName                         object\n",
       "ParkCode                         object\n",
       "Season                            int64\n",
       "LocationID                       object\n",
       "StreamName                       object\n",
       "TributaryName                    object\n",
       "EventID                          object\n",
       "RiffleNo                          int64\n",
       "Replicate                        object\n",
       "Taxon_EML                        object\n",
       "TaxonCode                        object\n",
       "TSN                             float64\n",
       "Phylum                           object\n",
       "Class                            object\n",
       "Order                            object\n",
       "Family                           object\n",
       "Subfamily                        object\n",
       "Genus                            object\n",
       "ToleranceValue                  float64\n",
       "FunctionalFeedingGroup           object\n",
       "LevelOfProtection                object\n",
       "LargeRare                         int64\n",
       "RepCount                          int64\n",
       "PerSample_LREq1                   int64\n",
       "PerSample_Inv                   float64\n",
       "RepCount_Calc                   float64\n",
       "Note                             object\n",
       "FlaggedData_YN                    int64\n",
       "OpsReviewFlaggedData_Comment     object\n",
       "DETimeStamp                      object\n",
       "dtype: object"
      ]
     },
     "execution_count": 309,
     "metadata": {},
     "output_type": "execute_result"
    }
   ],
   "source": [
    "df.dtypes"
   ]
  },
  {
   "cell_type": "code",
   "execution_count": 310,
   "id": "5c6427e2-2598-415b-9b7d-d016ed5f1122",
   "metadata": {},
   "outputs": [
    {
     "data": {
      "text/plain": [
       "['Buffalo National River']"
      ]
     },
     "execution_count": 310,
     "metadata": {},
     "output_type": "execute_result"
    }
   ],
   "source": [
    "sorted(df['ParkName'].unique())"
   ]
  },
  {
   "cell_type": "code",
   "execution_count": 311,
   "id": "45106846-3037-4ff3-b03e-3233a5b9fedb",
   "metadata": {},
   "outputs": [
    {
     "data": {
      "image/png": "[encoded data removed]",
      "text/plain": [
       "<Figure size 640x480 with 1 Axes>"
      ]
     },
     "metadata": {},
     "output_type": "display_data"
    }
   ],
   "source": [
    "\n",
    "frequency = df['ParkName'].value_counts()\n",
    "\n",
    "# Plot the bar chart with increased spacing\n",
    "fig, ax = plt.subplots()\n",
    "bar_width = 0.5  # Reduce the width of the bars\n",
    "bars = ax.bar(frequency.index, frequency.values, width=bar_width, color=['blue', 'green', 'red', 'purple', 'orange'])\n",
    "ax.set_title('Frequency of Categories')\n",
    "ax.set_xlabel('Category')\n",
    "ax.set_ylabel('Frequency')\n",
    "\n",
    "# Add some padding between bars\n",
    "ax.set_xticks(range(len(frequency)))\n",
    "ax.set_xticklabels(frequency.index, rotation=45, ha='right')\n",
    "\n",
    "# Show plot with the adjusted layout\n",
    "plt.tight_layout()\n",
    "plt.show()\n"
   ]
  },
  {
   "cell_type": "code",
   "execution_count": 312,
   "id": "f4b0a0be-5a50-406b-8555-a845146b0150",
   "metadata": {},
   "outputs": [
    {
     "data": {
      "text/plain": [
       "['BUFF']"
      ]
     },
     "execution_count": 312,
     "metadata": {},
     "output_type": "execute_result"
    }
   ],
   "source": [
    "sorted(df['ParkCode'].unique())"
   ]
  },
  {
   "cell_type": "code",
   "execution_count": 313,
   "id": "21fc1138-f217-4a11-9289-9b24342295af",
   "metadata": {},
   "outputs": [
    {
     "data": {
      "image/png": "[encoded data removed]",
      "text/plain": [
       "<Figure size 640x480 with 1 Axes>"
      ]
     },
     "metadata": {},
     "output_type": "display_data"
    }
   ],
   "source": [
    "frequency = df['ParkCode'].value_counts()\n",
    "\n",
    "# Plot the bar chart with increased spacing\n",
    "fig, ax = plt.subplots()\n",
    "bar_width = 0.5  # Reduce the width of the bars\n",
    "bars = ax.bar(frequency.index, frequency.values, width=bar_width, color=['blue', 'green', 'red', 'purple', 'orange'])\n",
    "ax.set_title('Frequency of Categories')\n",
    "ax.set_xlabel('Category')\n",
    "ax.set_ylabel('Frequency')\n",
    "\n",
    "# Add some padding between bars\n",
    "ax.set_xticks(range(len(frequency)))\n",
    "ax.set_xticklabels(frequency.index, rotation=45, ha='right')\n",
    "\n",
    "# Show plot with the adjusted layout\n",
    "plt.tight_layout()\n",
    "plt.show()\n",
    "\n"
   ]
  },
  {
   "cell_type": "code",
   "execution_count": 314,
   "id": "f238bdc6-e479-4f19-8386-473bb52aacb7",
   "metadata": {},
   "outputs": [
    {
     "data": {
      "text/plain": [
       "[np.int64(2005),\n",
       " np.int64(2006),\n",
       " np.int64(2007),\n",
       " np.int64(2008),\n",
       " np.int64(2009),\n",
       " np.int64(2010),\n",
       " np.int64(2011),\n",
       " np.int64(2013),\n",
       " np.int64(2015),\n",
       " np.int64(2017),\n",
       " np.int64(2019),\n",
       " np.int64(2021),\n",
       " np.int64(2023)]"
      ]
     },
     "execution_count": 314,
     "metadata": {},
     "output_type": "execute_result"
    }
   ],
   "source": [
    "sorted(df['Season'].unique())"
   ]
  },
  {
   "cell_type": "code",
   "execution_count": 315,
   "id": "494ca7ff-99f4-426f-857a-2a3b7d8dd5f5",
   "metadata": {},
   "outputs": [
    {
     "data": {
      "image/png": "[encoded data removed]",
      "text/plain": [
       "<Figure size 640x480 with 1 Axes>"
      ]
     },
     "metadata": {},
     "output_type": "display_data"
    }
   ],
   "source": [
    "\n",
    "plt.hist(df['Season'], bins=5, edgecolor='black')\n",
    "plt.title('Histogram of Season')\n",
    "plt.xlabel('Value')\n",
    "plt.ylabel('Frequency')\n",
    "plt.show()\n"
   ]
  },
  {
   "cell_type": "code",
   "execution_count": 316,
   "id": "090c6d74-1583-4e1b-832c-659c01b17db8",
   "metadata": {},
   "outputs": [
    {
     "data": {
      "text/plain": [
       "['BUFFRMINVEBM01',\n",
       " 'BUFFRMINVEBM02',\n",
       " 'BUFFRMINVEBM03',\n",
       " 'BUFFRMINVEBM04',\n",
       " 'BUFFRMINVEBM05',\n",
       " 'BUFFRMINVEBM06',\n",
       " 'BUFFRMINVEBT01',\n",
       " 'BUFFRMINVEBT03',\n",
       " 'BUFFRMINVEBT04',\n",
       " 'BUFFRMINVEBT05',\n",
       " 'BUFFRMINVEBT06',\n",
       " 'BUFFRMINVEBT07',\n",
       " 'BUFFRMINVEBT08',\n",
       " 'BUFFRMINVEBT09',\n",
       " 'BUFFRMINVEBT10',\n",
       " 'BUFFRMINVEBT11',\n",
       " 'BUFFRMINVEBT13',\n",
       " 'BUFFRMINVEBT14',\n",
       " 'BUFFRMINVEBT15',\n",
       " 'BUFFRMINVEBT16',\n",
       " 'BUFFRMINVEBT17',\n",
       " 'BUFFRMINVEBT19',\n",
       " 'BUFFRMINVEBT20',\n",
       " 'BUFFRMINVEBT22',\n",
       " 'BUFFRMINVEBT23',\n",
       " 'BUFFRMINVEBT24',\n",
       " 'BUFFRMINVEBT25',\n",
       " 'BUFFRMINVEBT27',\n",
       " 'BUFFRMINVEBT30',\n",
       " 'BUFFRMINVEBT31',\n",
       " 'BUFFRMINVEBT33']"
      ]
     },
     "execution_count": 316,
     "metadata": {},
     "output_type": "execute_result"
    }
   ],
   "source": [
    "sorted(df['LocationID'].unique())"
   ]
  },
  {
   "cell_type": "code",
   "execution_count": 317,
   "id": "fdbebb16-b5e2-4c40-8582-b578e3bc97da",
   "metadata": {},
   "outputs": [
    {
     "data": {
      "text/plain": [
       "['Buffalo River']"
      ]
     },
     "execution_count": 317,
     "metadata": {},
     "output_type": "execute_result"
    }
   ],
   "source": [
    "sorted(df['StreamName'].unique())"
   ]
  },
  {
   "cell_type": "code",
   "execution_count": 318,
   "id": "cfbf2e85-342d-4db5-a7b4-5111c45ea14b",
   "metadata": {},
   "outputs": [],
   "source": [
    "df['TributaryName'] = df['TributaryName'].astype(str)"
   ]
  },
  {
   "cell_type": "code",
   "execution_count": 319,
   "id": "43d61ac5-9b4e-4256-8fae-bdac2658f33b",
   "metadata": {},
   "outputs": [
    {
     "data": {
      "text/plain": [
       "['Bear Creek',\n",
       " 'Big Creek (U)',\n",
       " 'Calf Creek',\n",
       " 'Cecil Creek',\n",
       " 'Clabber Creek',\n",
       " 'Davis Creek',\n",
       " 'Glade Creek',\n",
       " 'Hickory Creek',\n",
       " 'Leatherwood Creek',\n",
       " 'Lick Creek',\n",
       " 'Little Buffalo',\n",
       " 'Middle Creek',\n",
       " 'Mill Branch',\n",
       " 'Mill Creek (U)',\n",
       " 'Panther Creek',\n",
       " 'Richland Creek',\n",
       " 'Rock Creek',\n",
       " 'Smith Creek',\n",
       " 'Sneeds Creek',\n",
       " 'Spring Creek',\n",
       " 'Stewart Creek',\n",
       " 'Vanishing Creek',\n",
       " 'Water Creek',\n",
       " 'Wells Creek',\n",
       " 'Whiteley Creek',\n",
       " 'nan']"
      ]
     },
     "execution_count": 319,
     "metadata": {},
     "output_type": "execute_result"
    }
   ],
   "source": [
    "sorted(df['TributaryName'].unique())"
   ]
  },
  {
   "cell_type": "code",
   "execution_count": 320,
   "id": "e83a7832-77e2-4e25-91b4-3ac8e99d2420",
   "metadata": {},
   "outputs": [
    {
     "data": {
      "text/plain": [
       "['BUFFRMINVE2005DEC01',\n",
       " 'BUFFRMINVE2005DEC14',\n",
       " 'BUFFRMINVE2005DEC20',\n",
       " 'BUFFRMINVE2005NOV29',\n",
       " 'BUFFRMINVE2005NOV30',\n",
       " 'BUFFRMINVE2007DEC03',\n",
       " 'BUFFRMINVE2007DEC04',\n",
       " 'BUFFRMINVE2007Dec03',\n",
       " 'BUFFRMINVE2007Dec04',\n",
       " 'BUFFRMINVE2007FEB09',\n",
       " 'BUFFRMINVE2007FEB21',\n",
       " 'BUFFRMINVE2007FEB22',\n",
       " 'BUFFRMINVE2007JAN04',\n",
       " 'BUFFRMINVE2007JAN05',\n",
       " 'BUFFRMINVE2007JAN08',\n",
       " 'BUFFRMINVE2007JAN09',\n",
       " 'BUFFRMINVE2007JAN20',\n",
       " 'BUFFRMINVE2007Nov26',\n",
       " 'BUFFRMINVE2007Nov27',\n",
       " 'BUFFRMINVE2007Nov28',\n",
       " 'BUFFRMINVE2007Nov30',\n",
       " 'BUFFRMINVE2008Dec02',\n",
       " 'BUFFRMINVE2008Dec04',\n",
       " 'BUFFRMINVE2008Dec05',\n",
       " 'BUFFRMINVE2008Dec10',\n",
       " 'BUFFRMINVE2008Dec11',\n",
       " 'BUFFRMINVE2008Jan22',\n",
       " 'BUFFRMINVE2008Jan23',\n",
       " 'BUFFRMINVE2009Dec07',\n",
       " 'BUFFRMINVE2009Dec08',\n",
       " 'BUFFRMINVE2009Dec14',\n",
       " 'BUFFRMINVE2009Dec15',\n",
       " 'BUFFRMINVE2009Dec16',\n",
       " 'BUFFRMINVE2009Feb18',\n",
       " 'BUFFRMINVE2009Jan08',\n",
       " 'BUFFRMINVE2010Dec01',\n",
       " 'BUFFRMINVE2010Jan11',\n",
       " 'BUFFRMINVE2010Jan12',\n",
       " 'BUFFRMINVE2010Jan14',\n",
       " 'BUFFRMINVE2010Jan15',\n",
       " 'BUFFRMINVE2010Jan21',\n",
       " 'BUFFRMINVE2010Nov29',\n",
       " 'BUFFRMINVE2010Nov30',\n",
       " 'BUFFRMINVE2011Dec01',\n",
       " 'BUFFRMINVE2011Dec07',\n",
       " 'BUFFRMINVE2011Dec28',\n",
       " 'BUFFRMINVE2012Jan04',\n",
       " 'BUFFRMINVE2012Jan05',\n",
       " 'BUFFRMINVE2012Jan06',\n",
       " 'BUFFRMINVE2012Jan09',\n",
       " 'BUFFRMINVE2012Jan10',\n",
       " 'BUFFRMINVE2012Jan18',\n",
       " 'BUFFRMINVE2013Dec04',\n",
       " 'BUFFRMINVE2013Nov21',\n",
       " 'BUFFRMINVE2014Feb19',\n",
       " 'BUFFRMINVE2014Jan23',\n",
       " 'BUFFRMINVE2014Jan24',\n",
       " 'BUFFRMINVE2014Jan29',\n",
       " 'BUFFRMINVE2014Jan30',\n",
       " 'BUFFRMINVE2014Jan31',\n",
       " 'BUFFRMINVE2015Dec07',\n",
       " 'BUFFRMINVE2015Dec08',\n",
       " 'BUFFRMINVE2015Dec09',\n",
       " 'BUFFRMINVE2015Dec17',\n",
       " 'BUFFRMINVE2015Dec18',\n",
       " 'BUFFRMINVE2015Nov23',\n",
       " 'BUFFRMINVE2015Nov24',\n",
       " 'BUFFRMINVE2017Dec01',\n",
       " 'BUFFRMINVE2017Dec04',\n",
       " 'BUFFRMINVE2017Dec08',\n",
       " 'BUFFRMINVE2017Nov15',\n",
       " 'BUFFRMINVE2017Nov16',\n",
       " 'BUFFRMINVE2017Nov29',\n",
       " 'BUFFRMINVE2017Nov30',\n",
       " 'BUFFRMINVE2019Nov04',\n",
       " 'BUFFRMINVE2019Nov05',\n",
       " 'BUFFRMINVE2019Nov06',\n",
       " 'BUFFRMINVE2019Nov18',\n",
       " 'BUFFRMINVE2019Nov19',\n",
       " 'BUFFRMINVE2019Nov20',\n",
       " 'BUFFRMINVE2019Nov21',\n",
       " 'BUFFRMINVE2021Nov01',\n",
       " 'BUFFRMINVE2021Nov02',\n",
       " 'BUFFRMINVE2021Nov03',\n",
       " 'BUFFRMINVE2021Nov04',\n",
       " 'BUFFRMINVE2021Nov08',\n",
       " 'BUFFRMINVE2021Nov09',\n",
       " 'BUFFRMINVE2021Nov10',\n",
       " 'BUFFRMINVE2023Nov01',\n",
       " 'BUFFRMINVE2023Nov02',\n",
       " 'BUFFRMINVE2023Nov03',\n",
       " 'BUFFRMINVE2023Nov06',\n",
       " 'BUFFRMINVE2023Nov07',\n",
       " 'BUFFRMINVE2023Nov08',\n",
       " 'BUFFRMINVE2023Nov14']"
      ]
     },
     "execution_count": 320,
     "metadata": {},
     "output_type": "execute_result"
    }
   ],
   "source": [
    "sorted(df['EventID'].unique())"
   ]
  },
  {
   "cell_type": "code",
   "execution_count": 321,
   "id": "8e0125fe-0071-42c9-b512-520e7d26c8e3",
   "metadata": {},
   "outputs": [
    {
     "data": {
      "text/plain": [
       "[np.int64(1), np.int64(2), np.int64(3)]"
      ]
     },
     "execution_count": 321,
     "metadata": {},
     "output_type": "execute_result"
    }
   ],
   "source": [
    "sorted(df['RiffleNo'].unique())"
   ]
  },
  {
   "cell_type": "code",
   "execution_count": 322,
   "id": "c7f5705b-5224-4469-bedd-0f04ca710f17",
   "metadata": {},
   "outputs": [
    {
     "data": {
      "text/plain": [
       "['L', 'M', 'R']"
      ]
     },
     "execution_count": 322,
     "metadata": {},
     "output_type": "execute_result"
    }
   ],
   "source": [
    "sorted(df['Replicate'].unique())"
   ]
  },
  {
   "cell_type": "code",
   "execution_count": 323,
   "id": "a25d73bc-f2c5-41fe-9d25-1d19ea0dd1e5",
   "metadata": {},
   "outputs": [
    {
     "data": {
      "image/png": "[encoded data removed]",
      "text/plain": [
       "<Figure size 640x480 with 1 Axes>"
      ]
     },
     "metadata": {},
     "output_type": "display_data"
    }
   ],
   "source": [
    "frequency = df['Replicate'].value_counts()\n",
    "\n",
    "# Plot the bar chart with increased spacing\n",
    "fig, ax = plt.subplots()\n",
    "bar_width = 0.5  # Reduce the width of the bars\n",
    "bars = ax.bar(frequency.index, frequency.values, width=bar_width, color=['blue', 'green', 'red', 'purple', 'orange'])\n",
    "ax.set_title('Frequency of Categories')\n",
    "ax.set_xlabel('Category')\n",
    "ax.set_ylabel('Frequency')\n",
    "\n",
    "# Add some padding between bars\n",
    "ax.set_xticks(range(len(frequency)))\n",
    "ax.set_xticklabels(frequency.index, rotation=45, ha='right')\n",
    "\n",
    "# Show plot with the adjusted layout\n",
    "plt.tight_layout()\n",
    "plt.show()\n"
   ]
  },
  {
   "cell_type": "raw",
   "id": "8695f636-b5c5-4341-b73b-829caa60b993",
   "metadata": {},
   "source": [
    "Taxon_EML is the column used to join to ITIS and GBIF in the EML generator scripts"
   ]
  },
  {
   "cell_type": "code",
   "execution_count": 324,
   "id": "cb2879dd-c3de-484b-b4c6-87166525fbb2",
   "metadata": {},
   "outputs": [
    {
     "data": {
      "text/plain": [
       "['Acentrella',\n",
       " 'Acerpenna',\n",
       " 'Acroneuria',\n",
       " 'Agabini',\n",
       " 'Agabus',\n",
       " 'Agapetus',\n",
       " 'Agnetina',\n",
       " 'Allocapnia',\n",
       " 'Alloperla',\n",
       " 'Ameletus',\n",
       " 'Amphinemura',\n",
       " 'Anthopotamus',\n",
       " 'Antocha',\n",
       " 'Argia',\n",
       " 'Atrichopogon',\n",
       " 'Baetidae',\n",
       " 'Baetis',\n",
       " 'Baetisca',\n",
       " 'Berosus',\n",
       " 'Bivalvia',\n",
       " 'Boyeria',\n",
       " 'Brachycentrus',\n",
       " 'Branchiobdellidae',\n",
       " 'Caecidotea',\n",
       " 'Caenis',\n",
       " 'Caloparyphus',\n",
       " 'Calopteryx',\n",
       " 'Ceratopogoninae',\n",
       " 'Chelifera',\n",
       " 'Cheumatopsyche',\n",
       " 'Chimarra',\n",
       " 'Chloroperlidae',\n",
       " 'Chrysops',\n",
       " 'Cladocera',\n",
       " 'Climacia',\n",
       " 'Clinocera',\n",
       " 'Clioperla',\n",
       " 'Coenagrionidae',\n",
       " 'Corbicula',\n",
       " 'Corydalus',\n",
       " 'Crambidae',\n",
       " 'Crangonyctidae',\n",
       " 'Crangonyx',\n",
       " 'Cyclonaias',\n",
       " 'Dibusa',\n",
       " 'Dineutus',\n",
       " 'Dixa',\n",
       " 'Dolichopodidae',\n",
       " 'Dromogomphus',\n",
       " 'Dubiraphia',\n",
       " 'Ectopria',\n",
       " 'Elimia',\n",
       " 'Elmidae',\n",
       " 'Entomobryidae',\n",
       " 'Epeorus',\n",
       " 'Ephemera',\n",
       " 'Ephemerella',\n",
       " 'Ephemerellidae',\n",
       " 'Ephydridae',\n",
       " 'Erpobdellidae',\n",
       " 'Eurylophella',\n",
       " 'Fallceon',\n",
       " 'Faxonius',\n",
       " 'Ferrissia',\n",
       " 'Fontigens',\n",
       " 'Forcipomyiinae',\n",
       " 'Galba',\n",
       " 'Gammarus',\n",
       " 'Gerridae',\n",
       " 'Girardia',\n",
       " 'Glossiphoniidae',\n",
       " 'Glossosoma',\n",
       " 'Gomphidae',\n",
       " 'Gomphurus',\n",
       " 'Gyraulus',\n",
       " 'Hagenius',\n",
       " 'Haploperla',\n",
       " 'Hebrus',\n",
       " 'Helichus',\n",
       " 'Helicopsyche',\n",
       " 'Helisoma',\n",
       " 'Helopicus',\n",
       " 'Hemerodromia',\n",
       " 'Heptageniidae',\n",
       " 'Hetaerina',\n",
       " 'Hexagenia',\n",
       " 'Hexatoma',\n",
       " 'Hirudinida',\n",
       " 'Hyalella',\n",
       " 'Hydrachnidiae',\n",
       " 'Hydraena',\n",
       " 'Hydrobiidae',\n",
       " 'Hydrobius',\n",
       " 'Hydroperla',\n",
       " 'Hydropsyche',\n",
       " 'Hydroptila',\n",
       " 'Hygrotus',\n",
       " 'Ironoquia',\n",
       " 'Isonychia',\n",
       " 'Isoperla',\n",
       " 'Lampsilis',\n",
       " 'Lepidostoma',\n",
       " 'Leptophlebia',\n",
       " 'Leucrocuta',\n",
       " 'Leuctridae',\n",
       " 'Limnophora',\n",
       " 'Limoniidae',\n",
       " 'Lirceus',\n",
       " 'Macromia',\n",
       " 'Macronychus',\n",
       " 'Marilia',\n",
       " 'Micrasema',\n",
       " 'Microcylloepus',\n",
       " 'Microvelia',\n",
       " 'Molophilus',\n",
       " 'Muscidae',\n",
       " 'Mystacides',\n",
       " 'Myxosargus',\n",
       " 'Nectopsyche',\n",
       " 'Nemotelus',\n",
       " 'Nemouridae',\n",
       " 'Neoperla',\n",
       " 'Neophylax',\n",
       " 'Neureclipsis',\n",
       " 'Nigronia',\n",
       " 'Ochrotrichia',\n",
       " 'Odonata',\n",
       " 'Oecetis',\n",
       " 'Ophiogomphus',\n",
       " 'Optioservus',\n",
       " 'Oreogeton',\n",
       " 'Oxyethira',\n",
       " 'Paduniella',\n",
       " 'Paracapnia',\n",
       " 'Paracloeodes',\n",
       " 'Paragnetina',\n",
       " 'Paraleptophlebia',\n",
       " 'Parapoynx',\n",
       " 'Peltodytes',\n",
       " 'Pericomaini',\n",
       " 'Perlesta',\n",
       " 'Perlidae',\n",
       " 'Perlinella',\n",
       " 'Perlodidae',\n",
       " 'Petrophila',\n",
       " 'Physella',\n",
       " 'Pisidium',\n",
       " 'Planorbidae',\n",
       " 'Plauditus',\n",
       " 'Pleurocera',\n",
       " 'Podura',\n",
       " 'Polycentropus',\n",
       " 'Prosimulium',\n",
       " 'Prostoia',\n",
       " 'Protoptila',\n",
       " 'Psephenus',\n",
       " 'Pseudolimnophila',\n",
       " 'Psychodini',\n",
       " 'Psychomyia',\n",
       " 'Pteronarcys',\n",
       " 'Pycnopsyche',\n",
       " 'Rhithrogena',\n",
       " 'Rhyacophila',\n",
       " 'Scirtes',\n",
       " 'Scirtidae',\n",
       " 'Serratella',\n",
       " 'Setodes',\n",
       " 'Sialis',\n",
       " 'Simulium',\n",
       " 'Sminthuridae',\n",
       " 'Sphaerium',\n",
       " 'Stactobiella',\n",
       " 'Stenacron',\n",
       " 'Stenelmis',\n",
       " 'Stenonema',\n",
       " 'Stratiomyidae',\n",
       " 'Strophitus',\n",
       " 'Strophopteryx',\n",
       " 'Stygobromus',\n",
       " 'Stylogomphus',\n",
       " 'Tabanidae',\n",
       " 'Taeniopterygidae',\n",
       " 'Taeniopteryx',\n",
       " 'Teloganopsis',\n",
       " 'Tipula',\n",
       " 'Tipulidae',\n",
       " 'Triaenodes',\n",
       " 'Trichoclinocera',\n",
       " 'Tricorythodes',\n",
       " 'Tropisternus',\n",
       " 'Unionidae',\n",
       " 'Veliidae',\n",
       " 'Viviparidae',\n",
       " 'Wormaldia',\n",
       " 'Zealeuctra']"
      ]
     },
     "execution_count": 324,
     "metadata": {},
     "output_type": "execute_result"
    }
   ],
   "source": [
    "sorted(df['Taxon_EML'].unique())"
   ]
  },
  {
   "cell_type": "code",
   "execution_count": 325,
   "id": "d08752db-856b-4c19-974c-e0f6daed9ab4",
   "metadata": {},
   "outputs": [
    {
     "data": {
      "text/plain": [
       "['AESHBO',\n",
       " 'AMELAM',\n",
       " 'ASELCA',\n",
       " 'ASELLI',\n",
       " 'BAET',\n",
       " 'BAETAC',\n",
       " 'BAETAP',\n",
       " 'BAETBA',\n",
       " 'BAETFA',\n",
       " 'BAETPA',\n",
       " 'BAETPL',\n",
       " 'BATCBA',\n",
       " 'BIVAL',\n",
       " 'BRACHBR',\n",
       " 'BRACHMI',\n",
       " 'BRAN',\n",
       " 'CAENCA',\n",
       " 'CALOCA',\n",
       " 'CALOHE',\n",
       " 'CAMBFA',\n",
       " 'CAPNAL',\n",
       " 'CAPNPA',\n",
       " 'CERA',\n",
       " 'CERAAT',\n",
       " 'CERAFO',\n",
       " 'CHLO',\n",
       " 'CHLOAL',\n",
       " 'CHLOHA',\n",
       " 'CLAD',\n",
       " 'COEN',\n",
       " 'COENAR',\n",
       " 'CORYCO',\n",
       " 'CORYNI',\n",
       " 'CRAM',\n",
       " 'CRAMPA',\n",
       " 'CRAMPE',\n",
       " 'CRANBS',\n",
       " 'CRANCR',\n",
       " 'CRANST',\n",
       " 'CYRECO',\n",
       " 'DIXIDI',\n",
       " 'DOLI',\n",
       " 'DRYOHE',\n",
       " 'DUGEGI',\n",
       " 'DYTIA',\n",
       " 'DYTIAG',\n",
       " 'DYTIHG',\n",
       " 'ELMI',\n",
       " 'ELMIDU',\n",
       " 'ELMIMA',\n",
       " 'ELMIMI',\n",
       " 'ELMIOP',\n",
       " 'ELMIST',\n",
       " 'EMMEFO',\n",
       " 'EMPICH',\n",
       " 'EMPICL',\n",
       " 'EMPIHE',\n",
       " 'EMPIOR',\n",
       " 'EMPITR',\n",
       " 'ENTO',\n",
       " 'EPHE',\n",
       " 'EPHEEH',\n",
       " 'EPHEEP',\n",
       " 'EPHEEU',\n",
       " 'EPHEHE',\n",
       " 'EPHESE',\n",
       " 'EPHETE',\n",
       " 'EPHY',\n",
       " 'ERPO',\n",
       " 'GAMMGA',\n",
       " 'GERR',\n",
       " 'GLOSAG',\n",
       " 'GLOSGL',\n",
       " 'GLOSPR',\n",
       " 'GLSS',\n",
       " 'GOMP',\n",
       " 'GOMPDR',\n",
       " 'GOMPGM',\n",
       " 'GOMPHA',\n",
       " 'GOMPOP',\n",
       " 'GOMPST',\n",
       " 'GYRIDI',\n",
       " 'HALIPE',\n",
       " 'HEBRHE',\n",
       " 'HELIHE',\n",
       " 'HEPT',\n",
       " 'HEPTEP',\n",
       " 'HEPTLE',\n",
       " 'HEPTRH',\n",
       " 'HEPTSE',\n",
       " 'HEPTST',\n",
       " 'HIR',\n",
       " 'HYALHY',\n",
       " 'HYDNHY',\n",
       " 'HYDPBE',\n",
       " 'HYDPHY',\n",
       " 'HYDPTR',\n",
       " 'HYDR',\n",
       " 'HYDSCH',\n",
       " 'HYDSHY',\n",
       " 'HYDTDI',\n",
       " 'HYDTHY',\n",
       " 'HYDTOC',\n",
       " 'HYDTOX',\n",
       " 'HYDTST',\n",
       " 'ISONIS',\n",
       " 'LEPCMY',\n",
       " 'LEPCNE',\n",
       " 'LEPCOE',\n",
       " 'LEPCSE',\n",
       " 'LEPCTR',\n",
       " 'LEPILE',\n",
       " 'LEPTLE',\n",
       " 'LEPTPA',\n",
       " 'LEPTTR',\n",
       " 'LEUC',\n",
       " 'LEUCZE',\n",
       " 'LIMNIR',\n",
       " 'LIMNPY',\n",
       " 'LIMO',\n",
       " 'LIMOAN',\n",
       " 'LIMOGIE',\n",
       " 'LIMOHE',\n",
       " 'LIMOMO',\n",
       " 'LIMOPS',\n",
       " 'LYMNGA',\n",
       " 'MACRMA',\n",
       " 'MUSC',\n",
       " 'MUSCLI',\n",
       " 'NEMO',\n",
       " 'NEMOAM',\n",
       " 'NEMOPR',\n",
       " 'ODON',\n",
       " 'ODONMA',\n",
       " 'PERL',\n",
       " 'PERLAC',\n",
       " 'PERLAG',\n",
       " 'PERLNE',\n",
       " 'PERLPA',\n",
       " 'PERLPE',\n",
       " 'PERLPR',\n",
       " 'PERO',\n",
       " 'PEROCL',\n",
       " 'PEROHE',\n",
       " 'PEROHY',\n",
       " 'PEROIS',\n",
       " 'PHILCH',\n",
       " 'PHILWO',\n",
       " 'PHYSPY',\n",
       " 'PLAO',\n",
       " 'PLAOFE',\n",
       " 'PLAOGY',\n",
       " 'PLAOHE',\n",
       " 'PLEUEL',\n",
       " 'PLEUPL',\n",
       " 'PODUPO',\n",
       " 'POLYNE',\n",
       " 'POLYPO',\n",
       " 'POTAAN',\n",
       " 'PSEPEC',\n",
       " 'PSEPPS',\n",
       " 'PSYCPE',\n",
       " 'PSYCPS',\n",
       " 'PSYHPA',\n",
       " 'PSYHPS',\n",
       " 'PTERPT',\n",
       " 'RHYARH',\n",
       " 'SCIR',\n",
       " 'SCIRSC',\n",
       " 'SIALSI',\n",
       " 'SIMUPR',\n",
       " 'SIMUSI',\n",
       " 'SISYCL',\n",
       " 'SMIN',\n",
       " 'SPHAPI',\n",
       " 'SPHASP',\n",
       " 'STRACA',\n",
       " 'STRAMY',\n",
       " 'STRANE',\n",
       " 'STRAOH',\n",
       " 'TABA',\n",
       " 'TABCHR',\n",
       " 'TAEN',\n",
       " 'TAENST',\n",
       " 'TAENTA',\n",
       " 'THRENE',\n",
       " 'TIPU',\n",
       " 'TIPUTI',\n",
       " 'TROM',\n",
       " 'UNIO',\n",
       " 'UNIOCY',\n",
       " 'UNIOLA',\n",
       " 'UNIOST',\n",
       " 'VELI',\n",
       " 'VELIMI',\n",
       " 'VIVI']"
      ]
     },
     "execution_count": 325,
     "metadata": {},
     "output_type": "execute_result"
    }
   ],
   "source": [
    "sorted(df['TaxonCode'].unique())"
   ]
  },
  {
   "cell_type": "code",
   "execution_count": 326,
   "id": "b9d85774-72b4-4126-8153-f8f684b53466",
   "metadata": {},
   "outputs": [],
   "source": [
    "# Its not possible to view individual category names in the graph below, but the frequency distribution is what you might expoect"
   ]
  },
  {
   "cell_type": "code",
   "execution_count": 327,
   "id": "e5fdc89c-a17a-4ecf-be48-074063428332",
   "metadata": {},
   "outputs": [
    {
     "data": {
      "image/png": "[encoded data removed]",
      "text/plain": [
       "<Figure size 640x480 with 1 Axes>"
      ]
     },
     "metadata": {},
     "output_type": "display_data"
    }
   ],
   "source": [
    "frequency = df['TaxonCode'].value_counts()\n",
    "\n",
    "# Plot the bar chart with increased spacing\n",
    "fig, ax = plt.subplots()\n",
    "bar_width = 0.5  # Reduce the width of the bars\n",
    "bars = ax.bar(frequency.index, frequency.values, width=bar_width, color=['blue', 'green', 'red', 'purple', 'orange'])\n",
    "ax.set_title('Frequency of Categories')\n",
    "ax.set_xlabel('Category')\n",
    "ax.set_ylabel('Frequency')\n",
    "\n",
    "# Add some padding between bars\n",
    "ax.set_xticks(range(len(frequency)))\n",
    "ax.set_xticklabels(frequency.index, rotation=45, ha='right')\n",
    "\n",
    "# Show plot with the adjusted layout\n",
    "plt.tight_layout()\n",
    "plt.show()\n"
   ]
  },
  {
   "cell_type": "code",
   "execution_count": 328,
   "id": "c71ec996-2e8f-4519-ac47-3b7aeb665c28",
   "metadata": {},
   "outputs": [
    {
     "data": {
      "text/plain": [
       "[np.float64(-999.0),\n",
       " np.float64(69169.0),\n",
       " np.float64(69290.0),\n",
       " np.float64(69380.0),\n",
       " np.float64(69438.0),\n",
       " np.float64(70304.0),\n",
       " np.float64(70493.0),\n",
       " np.float64(70605.0),\n",
       " np.float64(71549.0),\n",
       " np.float64(71654.0),\n",
       " np.float64(76497.0),\n",
       " np.float64(76569.0),\n",
       " np.float64(76591.0),\n",
       " np.float64(76592.0),\n",
       " np.float64(76599.0),\n",
       " np.float64(76698.0),\n",
       " np.float64(79118.0),\n",
       " np.float64(79913.0),\n",
       " np.float64(79986.0),\n",
       " np.float64(80084.0),\n",
       " np.float64(80150.0),\n",
       " np.float64(81385.0),\n",
       " np.float64(81391.0),\n",
       " np.float64(81400.0),\n",
       " np.float64(82769.0),\n",
       " np.float64(83832.0),\n",
       " np.float64(92666.0),\n",
       " np.float64(92686.0),\n",
       " np.float64(93773.0),\n",
       " np.float64(93861.0),\n",
       " np.float64(94025.0),\n",
       " np.float64(95081.0),\n",
       " np.float64(99240.0),\n",
       " np.float64(99643.0),\n",
       " np.float64(100258.0),\n",
       " np.float64(100504.0),\n",
       " np.float64(100507.0),\n",
       " np.float64(100572.0),\n",
       " np.float64(100626.0),\n",
       " np.float64(100676.0),\n",
       " np.float64(100713.0),\n",
       " np.float64(100775.0),\n",
       " np.float64(100800.0),\n",
       " np.float64(100801.0),\n",
       " np.float64(100899.0),\n",
       " np.float64(100996.0),\n",
       " np.float64(101041.0),\n",
       " np.float64(101148.0),\n",
       " np.float64(101187.0),\n",
       " np.float64(101232.0),\n",
       " np.float64(101233.0),\n",
       " np.float64(101324.0),\n",
       " np.float64(101395.0),\n",
       " np.float64(101405.0),\n",
       " np.float64(101478.0),\n",
       " np.float64(101494.0),\n",
       " np.float64(101526.0),\n",
       " np.float64(101537.0),\n",
       " np.float64(101593.0),\n",
       " np.float64(101645.0),\n",
       " np.float64(101664.0),\n",
       " np.float64(101730.0),\n",
       " np.float64(101734.0),\n",
       " np.float64(101738.0),\n",
       " np.float64(101761.0),\n",
       " np.float64(101777.0),\n",
       " np.float64(101918.0),\n",
       " np.float64(102048.0),\n",
       " np.float64(102052.0),\n",
       " np.float64(102077.0),\n",
       " np.float64(102139.0),\n",
       " np.float64(102471.0),\n",
       " np.float64(102517.0),\n",
       " np.float64(102540.0),\n",
       " np.float64(102584.0),\n",
       " np.float64(102644.0),\n",
       " np.float64(102788.0),\n",
       " np.float64(102789.0),\n",
       " np.float64(102804.0),\n",
       " np.float64(102808.0),\n",
       " np.float64(102840.0),\n",
       " np.float64(102900.0),\n",
       " np.float64(102914.0),\n",
       " np.float64(102917.0),\n",
       " np.float64(102942.0),\n",
       " np.float64(102962.0),\n",
       " np.float64(102975.0),\n",
       " np.float64(102994.0),\n",
       " np.float64(102995.0),\n",
       " np.float64(103084.0),\n",
       " np.float64(103106.0),\n",
       " np.float64(103118.0),\n",
       " np.float64(103202.0),\n",
       " np.float64(103203.0),\n",
       " np.float64(103244.0),\n",
       " np.float64(103251.0),\n",
       " np.float64(103260.0),\n",
       " np.float64(103801.0),\n",
       " np.float64(103885.0),\n",
       " np.float64(103900.0),\n",
       " np.float64(103965.0),\n",
       " np.float64(111923.0),\n",
       " np.float64(111966.0),\n",
       " np.float64(112200.0),\n",
       " np.float64(112711.0),\n",
       " np.float64(112757.0),\n",
       " np.float64(112812.0),\n",
       " np.float64(112938.0),\n",
       " np.float64(113196.0),\n",
       " np.float64(113924.0),\n",
       " np.float64(113929.0),\n",
       " np.float64(114006.0),\n",
       " np.float64(114070.0),\n",
       " np.float64(114087.0),\n",
       " np.float64(114093.0),\n",
       " np.float64(114095.0),\n",
       " np.float64(114126.0),\n",
       " np.float64(114146.0),\n",
       " np.float64(114177.0),\n",
       " np.float64(114212.0),\n",
       " np.float64(115002.0),\n",
       " np.float64(115028.0),\n",
       " np.float64(115033.0),\n",
       " np.float64(115086.0),\n",
       " np.float64(115097.0),\n",
       " np.float64(115221.0),\n",
       " np.float64(115258.0),\n",
       " np.float64(115273.0),\n",
       " np.float64(115335.0),\n",
       " np.float64(115388.0),\n",
       " np.float64(115408.0),\n",
       " np.float64(115453.0),\n",
       " np.float64(115641.0),\n",
       " np.float64(115714.0),\n",
       " np.float64(115779.0),\n",
       " np.float64(115817.0),\n",
       " np.float64(115826.0),\n",
       " np.float64(116046.0),\n",
       " np.float64(116382.0),\n",
       " np.float64(116409.0),\n",
       " np.float64(116514.0),\n",
       " np.float64(116548.0),\n",
       " np.float64(116565.0),\n",
       " np.float64(116598.0),\n",
       " np.float64(116607.0),\n",
       " np.float64(116651.0),\n",
       " np.float64(116794.0),\n",
       " np.float64(116906.0),\n",
       " np.float64(116958.0),\n",
       " np.float64(117016.0),\n",
       " np.float64(117044.0),\n",
       " np.float64(117095.0),\n",
       " np.float64(117121.0),\n",
       " np.float64(117159.0),\n",
       " np.float64(117682.0),\n",
       " np.float64(117714.0),\n",
       " np.float64(118840.0),\n",
       " np.float64(119037.0),\n",
       " np.float64(119656.0),\n",
       " np.float64(120094.0),\n",
       " np.float64(120365.0),\n",
       " np.float64(120758.0),\n",
       " np.float64(125810.0),\n",
       " np.float64(126703.0),\n",
       " np.float64(126774.0),\n",
       " np.float64(127112.0),\n",
       " np.float64(127113.0),\n",
       " np.float64(127338.0),\n",
       " np.float64(130409.0),\n",
       " np.float64(130473.0),\n",
       " np.float64(130694.0),\n",
       " np.float64(130934.0),\n",
       " np.float64(131078.0),\n",
       " np.float64(135849.0),\n",
       " np.float64(135903.0),\n",
       " np.float64(136305.0),\n",
       " np.float64(136327.0),\n",
       " np.float64(136377.0),\n",
       " np.float64(136824.0),\n",
       " np.float64(146893.0),\n",
       " np.float64(150025.0),\n",
       " np.float64(150730.0),\n",
       " np.float64(568546.0),\n",
       " np.float64(568551.0),\n",
       " np.float64(568553.0),\n",
       " np.float64(568559.0),\n",
       " np.float64(693963.0),\n",
       " np.float64(728216.0),\n",
       " np.float64(776926.0),\n",
       " np.float64(1037592.0),\n",
       " np.float64(1133539.0),\n",
       " np.float64(nan)]"
      ]
     },
     "execution_count": 328,
     "metadata": {},
     "output_type": "execute_result"
    }
   ],
   "source": [
    "sorted(df['TSN'].unique())"
   ]
  },
  {
   "cell_type": "code",
   "execution_count": 329,
   "id": "48b68c58-0820-4f49-82ee-d30e6125ed57",
   "metadata": {},
   "outputs": [
    {
     "data": {
      "text/plain": [
       "['Annelida', 'Arthropoda', 'Mollusca', 'Platyhelminthes']"
      ]
     },
     "execution_count": 329,
     "metadata": {},
     "output_type": "execute_result"
    }
   ],
   "source": [
    "sorted(df['Phylum'].unique())"
   ]
  },
  {
   "cell_type": "code",
   "execution_count": 330,
   "id": "4388b2fa-e175-4713-ad17-64ce778d84d4",
   "metadata": {},
   "outputs": [
    {
     "data": {
      "text/plain": [
       "['Arachnida',\n",
       " 'Bivalvia',\n",
       " 'Branchiopoda',\n",
       " 'Clitellata',\n",
       " 'Collembola',\n",
       " 'Gastropoda',\n",
       " 'Insecta',\n",
       " 'Malacostraca',\n",
       " 'Rhabditophora']"
      ]
     },
     "execution_count": 330,
     "metadata": {},
     "output_type": "execute_result"
    }
   ],
   "source": [
    "sorted(df['Class'].unique())"
   ]
  },
  {
   "cell_type": "code",
   "execution_count": 331,
   "id": "60f16aa6-a1ad-49d8-b8e2-9a205682cdd3",
   "metadata": {},
   "outputs": [],
   "source": [
    "df['Order'] = df['Order'].astype(str)"
   ]
  },
  {
   "cell_type": "code",
   "execution_count": 332,
   "id": "9af989b9-3a38-4bd8-8c20-0f468debc79d",
   "metadata": {},
   "outputs": [
    {
     "data": {
      "text/plain": [
       "['\"Hirudinida\"',\n",
       " 'Amphipoda',\n",
       " 'Architaenioglossa',\n",
       " 'Arhynchobdellida',\n",
       " 'Branchiobdellida',\n",
       " 'Coleoptera',\n",
       " 'Decapoda',\n",
       " 'Diplostraca',\n",
       " 'Diptera',\n",
       " 'Entomobryomorpha',\n",
       " 'Ephemeroptera',\n",
       " 'Hemiptera',\n",
       " 'Isopoda',\n",
       " 'Lepidoptera',\n",
       " 'Littorinimorpha',\n",
       " 'Megaloptera',\n",
       " 'Neuroptera',\n",
       " 'Odonata',\n",
       " 'Plecoptera',\n",
       " 'Poduromorpha',\n",
       " 'Rhynchobdellida',\n",
       " 'Symphypleona',\n",
       " 'Trichoptera',\n",
       " 'Tricladida',\n",
       " 'Trombidiformes',\n",
       " 'Unionida',\n",
       " 'Venerida',\n",
       " 'Veneroida',\n",
       " 'nan']"
      ]
     },
     "execution_count": 332,
     "metadata": {},
     "output_type": "execute_result"
    }
   ],
   "source": [
    "sorted(df['Order'].unique())"
   ]
  },
  {
   "cell_type": "code",
   "execution_count": 333,
   "id": "1b0a6a25-08d1-4e75-a284-798fe4452f4c",
   "metadata": {},
   "outputs": [],
   "source": [
    "df['Family'] = df['Family'].astype(str)"
   ]
  },
  {
   "cell_type": "code",
   "execution_count": 334,
   "id": "639cfb77-0532-4b9c-bce2-c8301f795363",
   "metadata": {},
   "outputs": [
    {
     "data": {
      "text/plain": [
       "['\"Cladocera\"',\n",
       " '\"Hydrachnidiae\"',\n",
       " 'Aeshnidae',\n",
       " 'Ameletidae',\n",
       " 'Asellidae',\n",
       " 'Baetidae',\n",
       " 'Baetiscidae',\n",
       " 'Brachycentridae',\n",
       " 'Branchiobdellidae',\n",
       " 'Caenidae',\n",
       " 'Calopterygidae',\n",
       " 'Cambaridae',\n",
       " 'Capniidae',\n",
       " 'Ceratopogonidae',\n",
       " 'Chloroperlidae',\n",
       " 'Coenagrionidae',\n",
       " 'Corydalidae',\n",
       " 'Crambidae',\n",
       " 'Crangonyctidae',\n",
       " 'Cyrenidae',\n",
       " 'Dixidae',\n",
       " 'Dolichopodidae',\n",
       " 'Dryopidae',\n",
       " 'Dugesiidae',\n",
       " 'Dytiscidae',\n",
       " 'Elmidae',\n",
       " 'Emmericiidae',\n",
       " 'Empididae',\n",
       " 'Entomobryidae',\n",
       " 'Ephemerellidae',\n",
       " 'Ephemeridae',\n",
       " 'Ephydridae',\n",
       " 'Erpobdellidae',\n",
       " 'Gammaridae',\n",
       " 'Gerridae',\n",
       " 'Glossiphoniidae',\n",
       " 'Glossosomatidae',\n",
       " 'Gomphidae',\n",
       " 'Gyrinidae',\n",
       " 'Haliplidae',\n",
       " 'Hebridae',\n",
       " 'Helicopsychidae',\n",
       " 'Heptageniidae',\n",
       " 'Hyalellidae',\n",
       " 'Hydraenidae',\n",
       " 'Hydrobiidae',\n",
       " 'Hydrophilidae',\n",
       " 'Hydropsychidae',\n",
       " 'Hydroptilidae',\n",
       " 'Isonychiidae',\n",
       " 'Lepidostomatidae',\n",
       " 'Leptoceridae',\n",
       " 'Leptohyphidae',\n",
       " 'Leptophlebiidae',\n",
       " 'Leuctridae',\n",
       " 'Limnephilidae',\n",
       " 'Limoniidae',\n",
       " 'Lymnaeidae',\n",
       " 'Macromiidae',\n",
       " 'Muscidae',\n",
       " 'Nemouridae',\n",
       " 'Odontoceridae',\n",
       " 'Perlidae',\n",
       " 'Perlodidae',\n",
       " 'Philopotamidae',\n",
       " 'Physidae',\n",
       " 'Planorbidae',\n",
       " 'Pleuroceridae',\n",
       " 'Poduridae',\n",
       " 'Polycentropodidae',\n",
       " 'Potamanthidae',\n",
       " 'Psephenidae',\n",
       " 'Psychodidae',\n",
       " 'Psychomyiidae',\n",
       " 'Pteronarcyidae',\n",
       " 'Rhyacophilidae',\n",
       " 'Scirtidae',\n",
       " 'Sialidae',\n",
       " 'Simuliidae',\n",
       " 'Sisyridae',\n",
       " 'Sminthuridae',\n",
       " 'Sphaeriidae',\n",
       " 'Stratiomyidae',\n",
       " 'Tabanidae',\n",
       " 'Taeniopterygidae',\n",
       " 'Thremmatidae',\n",
       " 'Tipulidae',\n",
       " 'Unionidae',\n",
       " 'Veliidae',\n",
       " 'Viviparidae',\n",
       " 'nan']"
      ]
     },
     "execution_count": 334,
     "metadata": {},
     "output_type": "execute_result"
    }
   ],
   "source": [
    "sorted(df['Family'].unique())"
   ]
  },
  {
   "cell_type": "code",
   "execution_count": 335,
   "id": "27f4eff3-34ac-4710-af6a-3f5d7a18a91b",
   "metadata": {},
   "outputs": [],
   "source": [
    "df['Subfamily'] = df['Subfamily'].astype(str)"
   ]
  },
  {
   "cell_type": "code",
   "execution_count": 336,
   "id": "65329ef2-e273-4fbf-8353-27ddaf9ad474",
   "metadata": {},
   "outputs": [
    {
     "data": {
      "text/plain": [
       "['Agabinae', 'Ceratopogoninae\\xa0', 'Forcipomyiinae', 'nan']"
      ]
     },
     "execution_count": 336,
     "metadata": {},
     "output_type": "execute_result"
    }
   ],
   "source": [
    "sorted(df['Subfamily'].unique())"
   ]
  },
  {
   "cell_type": "code",
   "execution_count": 337,
   "id": "98f1e47f-8b0a-4af5-97af-7c0d60df8895",
   "metadata": {},
   "outputs": [],
   "source": [
    "df['Genus'] = df['Genus'].astype(str)"
   ]
  },
  {
   "cell_type": "code",
   "execution_count": 338,
   "id": "13b7f766-2c55-42ea-859e-a1d4f24b7aeb",
   "metadata": {},
   "outputs": [
    {
     "data": {
      "text/plain": [
       "['\"Agabini\"',\n",
       " '\"Pericomaini\"',\n",
       " '\"Psychodini\"',\n",
       " '(Stygobromus/Bactrurus)',\n",
       " 'Acentrella',\n",
       " 'Acerpenna',\n",
       " 'Acroneuria',\n",
       " 'Agabus',\n",
       " 'Agapetus',\n",
       " 'Agnetina',\n",
       " 'Allocapnia',\n",
       " 'Alloperla',\n",
       " 'Ameletus',\n",
       " 'Amphinemura',\n",
       " 'Anthopotamus',\n",
       " 'Antocha',\n",
       " 'Argia',\n",
       " 'Atrichopogon',\n",
       " 'Baetis',\n",
       " 'Baetisca',\n",
       " 'Berosus',\n",
       " 'Boyeria',\n",
       " 'Brachycentrus',\n",
       " 'Caecidotea',\n",
       " 'Caenis',\n",
       " 'Caloparyphus',\n",
       " 'Calopteryx',\n",
       " 'Chelifera (Metachela)',\n",
       " 'Cheumatopsyche',\n",
       " 'Chimarra',\n",
       " 'Chrysops',\n",
       " 'Climacia',\n",
       " 'Clinocera',\n",
       " 'Clioperla',\n",
       " 'Corbicula',\n",
       " 'Corydalus',\n",
       " 'Crangonyx',\n",
       " 'Cyclonaias',\n",
       " 'Dibusa',\n",
       " 'Dineutus',\n",
       " 'Dixa',\n",
       " 'Dromogomphus',\n",
       " 'Dubiraphia',\n",
       " 'Ectopria',\n",
       " 'Elimia',\n",
       " 'Epeorus',\n",
       " 'Ephemera',\n",
       " 'Ephemerella',\n",
       " 'Eurylophella',\n",
       " 'Fallceon',\n",
       " 'Faxonius',\n",
       " 'Ferrissia',\n",
       " 'Fontigens',\n",
       " 'Galba',\n",
       " 'Gammarus',\n",
       " 'Girardia',\n",
       " 'Glossosoma',\n",
       " 'Gomphurus',\n",
       " 'Gonomyia/Idiocera/Ellipteroides',\n",
       " 'Gyraulus',\n",
       " 'Hagenius',\n",
       " 'Haploperla',\n",
       " 'Hebrus',\n",
       " 'Helichus',\n",
       " 'Helicopsyche',\n",
       " 'Helisoma',\n",
       " 'Helopicus',\n",
       " 'Hemerodromia',\n",
       " 'Hetaerina',\n",
       " 'Hexagenia',\n",
       " 'Hexatoma',\n",
       " 'Hyalella',\n",
       " 'Hydraena',\n",
       " 'Hydrobius',\n",
       " 'Hydroperla',\n",
       " 'Hydropsyche',\n",
       " 'Hydroptila',\n",
       " 'Hygrotus',\n",
       " 'Ironoquia',\n",
       " 'Isonychia',\n",
       " 'Isoperla',\n",
       " 'Lampsilis',\n",
       " 'Lepidostoma',\n",
       " 'Leptophlebia',\n",
       " 'Leucrocuta',\n",
       " 'Limnophora',\n",
       " 'Lirceus',\n",
       " 'Macromia',\n",
       " 'Macronychus',\n",
       " 'Marilia',\n",
       " 'Micrasema',\n",
       " 'Microcylloepus',\n",
       " 'Microvelia',\n",
       " 'Molophilus',\n",
       " 'Mystacides',\n",
       " 'Myxosargus',\n",
       " 'Nectopsyche',\n",
       " 'Nemotelus',\n",
       " 'Neoperla',\n",
       " 'Neophylax',\n",
       " 'Neureclipsis',\n",
       " 'Nigronia',\n",
       " 'Ochrotrichia',\n",
       " 'Odontomyia/Hedriodiscus',\n",
       " 'Oecetis',\n",
       " 'Ophiogomphus',\n",
       " 'Optioservus',\n",
       " 'Oreogeton',\n",
       " 'Oxyethira',\n",
       " 'Paduniella',\n",
       " 'Paracapnia',\n",
       " 'Paracloeodes',\n",
       " 'Paragnetina',\n",
       " 'Paraleptophlebia',\n",
       " 'Parapoynx',\n",
       " 'Peltodytes',\n",
       " 'Perlesta',\n",
       " 'Perlinella',\n",
       " 'Petrophila',\n",
       " 'Physella',\n",
       " 'Pisidium',\n",
       " 'Plauditus',\n",
       " 'Pleurocera',\n",
       " 'Podura',\n",
       " 'Polycentropus',\n",
       " 'Prosimulium',\n",
       " 'Prostoia',\n",
       " 'Protoptila',\n",
       " 'Psephenus',\n",
       " 'Pseudolimnophila',\n",
       " 'Psychomyia',\n",
       " 'Pteronarcys',\n",
       " 'Pycnopsyche',\n",
       " 'Rhithrogena',\n",
       " 'Rhyacophila',\n",
       " 'Scirtes',\n",
       " 'Serratella',\n",
       " 'Setodes',\n",
       " 'Sialis',\n",
       " 'Simulium',\n",
       " 'Sphaerium',\n",
       " 'Stactobiella',\n",
       " 'Stenacron',\n",
       " 'Stenelmis',\n",
       " 'Stenonema',\n",
       " 'Strophitus',\n",
       " 'Strophopteryx',\n",
       " 'Stygobromus',\n",
       " 'Stylogomphus',\n",
       " 'Taeniopteryx',\n",
       " 'Teloganopsis',\n",
       " 'Tipula',\n",
       " 'Triaenodes',\n",
       " 'Trichoclinocera',\n",
       " 'Tricorythodes',\n",
       " 'Tropisternus',\n",
       " 'Wormaldia',\n",
       " 'Zealeuctra',\n",
       " 'nan']"
      ]
     },
     "execution_count": 338,
     "metadata": {},
     "output_type": "execute_result"
    }
   ],
   "source": [
    "sorted(df['Genus'].unique())"
   ]
  },
  {
   "cell_type": "code",
   "execution_count": 339,
   "id": "599fe9c9-06a3-4ddb-9849-c0f12e1e1d66",
   "metadata": {},
   "outputs": [
    {
     "data": {
      "text/plain": [
       "[np.float64(0.0),\n",
       " np.float64(1.2),\n",
       " np.float64(1.4),\n",
       " np.float64(1.5),\n",
       " np.float64(1.6),\n",
       " np.float64(2.0),\n",
       " np.float64(2.1),\n",
       " np.float64(2.3),\n",
       " np.float64(2.5),\n",
       " np.float64(2.7),\n",
       " np.float64(2.8),\n",
       " np.float64(2.9),\n",
       " np.float64(3.6),\n",
       " np.float64(3.7),\n",
       " np.float64(3.8),\n",
       " np.float64(4.0),\n",
       " np.float64(4.3),\n",
       " np.float64(4.4),\n",
       " np.float64(4.7),\n",
       " np.float64(5.1),\n",
       " np.float64(5.3),\n",
       " np.float64(5.4),\n",
       " np.float64(5.6),\n",
       " np.float64(5.7),\n",
       " np.float64(6.0),\n",
       " np.float64(6.1),\n",
       " np.float64(6.2),\n",
       " np.float64(6.3),\n",
       " np.float64(6.4),\n",
       " np.float64(6.5),\n",
       " np.float64(6.6),\n",
       " np.float64(6.9),\n",
       " np.float64(7.1),\n",
       " np.float64(7.2),\n",
       " np.float64(7.6),\n",
       " np.float64(7.7),\n",
       " np.float64(8.0),\n",
       " np.float64(10.0),\n",
       " np.float64(nan),\n",
       " np.float64(0.2),\n",
       " np.float64(0.4),\n",
       " np.float64(0.9),\n",
       " np.float64(1.0),\n",
       " np.float64(1.1),\n",
       " np.float64(1.3),\n",
       " np.float64(1.7),\n",
       " np.float64(1.8),\n",
       " np.float64(2.6),\n",
       " np.float64(2.75),\n",
       " np.float64(3.0),\n",
       " np.float64(3.2),\n",
       " np.float64(3.4),\n",
       " np.float64(3.5),\n",
       " np.float64(4.2),\n",
       " np.float64(4.6),\n",
       " np.float64(4.8),\n",
       " np.float64(5.0),\n",
       " np.float64(5.2),\n",
       " np.float64(5.5),\n",
       " np.float64(5.8),\n",
       " np.float64(6.7),\n",
       " np.float64(6.8),\n",
       " np.float64(7.0),\n",
       " np.float64(7.3),\n",
       " np.float64(7.4),\n",
       " np.float64(7.8),\n",
       " np.float64(8.1),\n",
       " np.float64(8.3),\n",
       " np.float64(8.5),\n",
       " np.float64(8.6),\n",
       " np.float64(8.7),\n",
       " np.float64(9.1),\n",
       " np.float64(9.8),\n",
       " np.float64(9.9)]"
      ]
     },
     "execution_count": 339,
     "metadata": {},
     "output_type": "execute_result"
    }
   ],
   "source": [
    "sorted(df['ToleranceValue'].unique())"
   ]
  },
  {
   "cell_type": "code",
   "execution_count": 340,
   "id": "248e27b3-432e-46eb-844b-acf492395a19",
   "metadata": {},
   "outputs": [
    {
     "data": {
      "image/png": "[encoded data removed]",
      "text/plain": [
       "<Figure size 640x480 with 1 Axes>"
      ]
     },
     "metadata": {},
     "output_type": "display_data"
    }
   ],
   "source": [
    "\n",
    "plt.hist(df['ToleranceValue'], bins=5, edgecolor='black')\n",
    "plt.title('Histogram of TolaranceValue')\n",
    "plt.xlabel('Value')\n",
    "plt.ylabel('Frequency')\n",
    "plt.show()\n",
    "\n"
   ]
  },
  {
   "cell_type": "code",
   "execution_count": 341,
   "id": "27dadf0c-becd-48ce-8825-ae60ce453ee3",
   "metadata": {},
   "outputs": [],
   "source": [
    "df['FunctionalFeedingGroup'] = df['FunctionalFeedingGroup'].astype(str)"
   ]
  },
  {
   "cell_type": "code",
   "execution_count": 342,
   "id": "9f98e3a2-31df-4d57-8039-3aff2d1bfb96",
   "metadata": {},
   "outputs": [
    {
     "data": {
      "text/plain": [
       "['C',\n",
       " 'C, He',\n",
       " 'C, Sc',\n",
       " 'C, Sh',\n",
       " 'C,F',\n",
       " 'C,He',\n",
       " 'C,Pr',\n",
       " 'C,SC',\n",
       " 'C,Sc',\n",
       " 'C,Sh',\n",
       " 'C,Sh,Sc',\n",
       " 'F',\n",
       " 'F,Sh',\n",
       " 'He,C',\n",
       " 'He,Pr',\n",
       " 'He,SC',\n",
       " 'Pa',\n",
       " 'Pa,Pr',\n",
       " 'Pr',\n",
       " 'SC',\n",
       " 'Sc',\n",
       " 'Sc, C, Sh, He',\n",
       " 'Sc,Sh',\n",
       " 'Sh',\n",
       " 'Sh, He',\n",
       " 'nan']"
      ]
     },
     "execution_count": 342,
     "metadata": {},
     "output_type": "execute_result"
    }
   ],
   "source": [
    "sorted(df['FunctionalFeedingGroup'].unique())"
   ]
  },
  {
   "cell_type": "code",
   "execution_count": 343,
   "id": "c0311669-958a-4f6d-88ad-b9779cebb0f5",
   "metadata": {},
   "outputs": [
    {
     "data": {
      "text/plain": [
       "['NP']"
      ]
     },
     "execution_count": 343,
     "metadata": {},
     "output_type": "execute_result"
    }
   ],
   "source": [
    "sorted(df['LevelOfProtection'].unique())"
   ]
  },
  {
   "cell_type": "code",
   "execution_count": 344,
   "id": "1cc9d770-91c0-48f1-aaf3-0be4f18462b3",
   "metadata": {},
   "outputs": [
    {
     "data": {
      "text/plain": [
       "[np.int64(0), np.int64(1)]"
      ]
     },
     "execution_count": 344,
     "metadata": {},
     "output_type": "execute_result"
    }
   ],
   "source": [
    "sorted(df['LargeRare'].unique())"
   ]
  },
  {
   "cell_type": "code",
   "execution_count": 345,
   "id": "f1f32f8a-6793-4f14-ae35-67fccc93209e",
   "metadata": {},
   "outputs": [],
   "source": [
    "df['filtered_RepCount'] = df['RepCount'].apply(lambda x: x if x < 100 else None)"
   ]
  },
  {
   "cell_type": "code",
   "execution_count": 346,
   "id": "17e9ec7a-a0b6-48f1-8615-36e008c54142",
   "metadata": {},
   "outputs": [
    {
     "data": {
      "image/png": "[encoded data removed]",
      "text/plain": [
       "<Figure size 640x480 with 1 Axes>"
      ]
     },
     "metadata": {},
     "output_type": "display_data"
    }
   ],
   "source": [
    "plt.hist(df['filtered_RepCount'], bins=5, edgecolor='black')\n",
    "plt.title('Histogram of filtered_RepCount')\n",
    "plt.xlabel('Value')\n",
    "plt.ylabel('Frequency')\n",
    "plt.show()"
   ]
  },
  {
   "cell_type": "code",
   "execution_count": 347,
   "id": "42edf33d-1a8c-45b6-b717-67add0130dc4",
   "metadata": {},
   "outputs": [],
   "source": [
    "df['filtered_RepCount'] = df['RepCount'].apply(lambda x: x if (x >= 100) else None)"
   ]
  },
  {
   "cell_type": "code",
   "execution_count": 348,
   "id": "a00c2b4c-e689-4c57-be4f-bc24aa2277e5",
   "metadata": {},
   "outputs": [
    {
     "data": {
      "image/png": "[encoded data removed]",
      "text/plain": [
       "<Figure size 640x480 with 1 Axes>"
      ]
     },
     "metadata": {},
     "output_type": "display_data"
    }
   ],
   "source": [
    "plt.hist(df['filtered_RepCount'], bins=5, edgecolor='black')\n",
    "plt.title('Histogram of filtered_RepCount')\n",
    "plt.xlabel('Value')\n",
    "plt.ylabel('Frequency')\n",
    "plt.show()"
   ]
  },
  {
   "cell_type": "code",
   "execution_count": 349,
   "id": "6346c04a-31ae-407d-8d43-680b53b6e345",
   "metadata": {},
   "outputs": [
    {
     "data": {
      "image/png": "[encoded data removed]",
      "text/plain": [
       "<Figure size 640x480 with 1 Axes>"
      ]
     },
     "metadata": {},
     "output_type": "display_data"
    }
   ],
   "source": [
    "plt.hist(df['PerSample_LREq1'], bins=5, edgecolor='black')\n",
    "plt.title('Histogram of PerSample_LREq1')\n",
    "plt.xlabel('Value')\n",
    "plt.ylabel('Frequency')\n",
    "plt.show()"
   ]
  },
  {
   "cell_type": "code",
   "execution_count": 350,
   "id": "9b9df00b-2cfd-4bc0-985d-ba62f3045884",
   "metadata": {},
   "outputs": [
    {
     "data": {
      "image/png": "[encoded data removed]",
      "text/plain": [
       "<Figure size 640x480 with 1 Axes>"
      ]
     },
     "metadata": {},
     "output_type": "display_data"
    }
   ],
   "source": [
    "plt.hist(df['PerSample_Inv'], bins=5, edgecolor='black')\n",
    "plt.title('Histogram of PerSample_Inv')\n",
    "plt.xlabel('Value')\n",
    "plt.ylabel('Frequency')\n",
    "plt.show()"
   ]
  },
  {
   "cell_type": "code",
   "execution_count": 351,
   "id": "120ad723-4214-4806-8755-505cc48b947b",
   "metadata": {},
   "outputs": [
    {
     "data": {
      "image/png": "[encoded data removed]",
      "text/plain": [
       "<Figure size 640x480 with 1 Axes>"
      ]
     },
     "metadata": {},
     "output_type": "display_data"
    }
   ],
   "source": [
    "plt.hist(df['RepCount_Calc'], bins=5, edgecolor='black')\n",
    "plt.title('RepCount_Calc')\n",
    "plt.xlabel('Value')\n",
    "plt.ylabel('Frequency')\n",
    "plt.show()"
   ]
  },
  {
   "cell_type": "code",
   "execution_count": 352,
   "id": "3b077b6b-246c-4c09-886b-5f76244a7965",
   "metadata": {},
   "outputs": [],
   "source": [
    "df['filtered_RepCount_Calc'] = df['RepCount_Calc'].apply(lambda x: x if x < 100 else None)"
   ]
  },
  {
   "cell_type": "code",
   "execution_count": 353,
   "id": "f49b2bf9-b64f-41a1-9594-2cfa1ea7f710",
   "metadata": {},
   "outputs": [
    {
     "data": {
      "image/png": "[encoded data removed]",
      "text/plain": [
       "<Figure size 640x480 with 1 Axes>"
      ]
     },
     "metadata": {},
     "output_type": "display_data"
    }
   ],
   "source": [
    "plt.hist(df['filtered_RepCount_Calc'], bins=5, edgecolor='black')\n",
    "plt.title('Histogram of filtered_RepCount_Calc')\n",
    "plt.xlabel('Value')\n",
    "plt.ylabel('Frequency')\n",
    "plt.show()"
   ]
  },
  {
   "cell_type": "code",
   "execution_count": 354,
   "id": "42adca1c-49b3-4fc8-8e58-d9a25563eae2",
   "metadata": {},
   "outputs": [],
   "source": [
    "df['filtered_RepCount_Calc'] = df['RepCount_Calc'].apply(lambda x: x if 500 <= x < 5000 else None)"
   ]
  },
  {
   "cell_type": "code",
   "execution_count": 355,
   "id": "417c7b05-b7c4-4ea8-8fe3-2ee13fb19f73",
   "metadata": {},
   "outputs": [
    {
     "data": {
      "image/png": "[encoded data removed]",
      "text/plain": [
       "<Figure size 640x480 with 1 Axes>"
      ]
     },
     "metadata": {},
     "output_type": "display_data"
    }
   ],
   "source": [
    "plt.hist(df['filtered_RepCount_Calc'], bins=50, edgecolor='black')\n",
    "plt.title('Histogram of filtered_RepCount_Calc')\n",
    "plt.xlabel('Value')\n",
    "plt.ylabel('Frequency')\n",
    "plt.show()"
   ]
  },
  {
   "cell_type": "code",
   "execution_count": 356,
   "id": "fee8995d-3ec3-40e5-914a-84e8824385f9",
   "metadata": {},
   "outputs": [],
   "source": [
    "df['Note'] = df['Note'].astype(str)"
   ]
  },
  {
   "cell_type": "code",
   "execution_count": 357,
   "id": "f92f65cb-608d-43df-8ac6-eea78d406ffd",
   "metadata": {},
   "outputs": [
    {
     "data": {
      "text/plain": [
       "['1 in Ref Collection',\n",
       " '1 is Maccafertium',\n",
       " '1 mature nymph',\n",
       " '10 are Maccafertium',\n",
       " '10 maccaffertium',\n",
       " '11 maccaffertium',\n",
       " '115 are Maccafertium',\n",
       " '128 are Maccafertium',\n",
       " '13 maccaffertium',\n",
       " '149 are Maccafertium',\n",
       " '15 are Maccafertium',\n",
       " '16 are Maccafertium',\n",
       " '16 maccaffertium',\n",
       " '17 are Maccafertium',\n",
       " '18 are Maccafertium',\n",
       " '19 are Maccafertium',\n",
       " '2 maccaffertium',\n",
       " '2 specimens in RC. Muscidae, Limnophora',\n",
       " '20 maccaffertium',\n",
       " '22 are Maccafertium',\n",
       " '23 are Maccafertium',\n",
       " '24 are Maccafertium',\n",
       " '24 maccaffertium',\n",
       " '26 are Maccafertium',\n",
       " '260 are Maccafertium',\n",
       " '27 are Maccafertium',\n",
       " '27 maccaffertium',\n",
       " '28 are Maccafertium',\n",
       " '29 are Maccafertium',\n",
       " '29 maccaffertium',\n",
       " '30 are Maccafertium',\n",
       " '31 maccaffertium',\n",
       " '32 maccaffertium',\n",
       " '33 are Maccafertium',\n",
       " '33 maccaffertium',\n",
       " '337 are Maccafertium',\n",
       " '34 maccaffertium',\n",
       " '35 are Maccafertium',\n",
       " '35 maccaffertium',\n",
       " '36 maccaffertium',\n",
       " '38 maccaffertium',\n",
       " '4 are Maccafertium',\n",
       " '4 maccaffertium',\n",
       " '40 are Maccafertium',\n",
       " '42 are Maccafertium',\n",
       " '43 are Maccafertium',\n",
       " '44 are Maccafertium',\n",
       " '45 are Maccafertium',\n",
       " '47 maccaffertium',\n",
       " '5 maccaffertium',\n",
       " '50 are Maccafertium',\n",
       " '51 are Maccafertium',\n",
       " '57 are Maccafertium',\n",
       " '6 are Maccafertium',\n",
       " '6 maccaffertium',\n",
       " '60 are Maccafertium',\n",
       " '60 maccaffertium',\n",
       " '69 are Maccafertium',\n",
       " '7 are Maccafertium',\n",
       " '7 maccaffertium',\n",
       " '75 are Maccafertium',\n",
       " '8 maccaffertium',\n",
       " '9 are Maccafertium',\n",
       " '98 are Maccafertium',\n",
       " '99 are Maccafertium',\n",
       " 'All Maccafertium',\n",
       " 'All maccaffertium',\n",
       " 'At least some specimens in RC.',\n",
       " 'Emmericiidae: Fontigens',\n",
       " 'Geranomyia?',\n",
       " 'ID as genus Erpobdella in Ref Collection; kept at family level in DB',\n",
       " 'ID as genus Placobdella on lab sheet and in Ref Collection; kept at family in DB',\n",
       " 'Mid-Ided larvae; changed to POLYPO',\n",
       " 'Mis-Ided larvae; changed to EPHETE',\n",
       " 'Mis-Ided larvae; changed to MUSCLI',\n",
       " 'One mature, great condition',\n",
       " 'all 11 are Maccaffertium\\r\\nall 11 are Maccaffertium',\n",
       " 'all 28 Maccaffertium',\n",
       " 'all maccaffertium',\n",
       " 'nan']"
      ]
     },
     "execution_count": 357,
     "metadata": {},
     "output_type": "execute_result"
    }
   ],
   "source": [
    "sorted(df['Note'].unique())"
   ]
  },
  {
   "cell_type": "code",
   "execution_count": 358,
   "id": "7ac99017-2603-4d29-aa09-91be65b1883d",
   "metadata": {},
   "outputs": [
    {
     "data": {
      "text/plain": [
       "[np.int64(0), np.int64(1)]"
      ]
     },
     "execution_count": 358,
     "metadata": {},
     "output_type": "execute_result"
    }
   ],
   "source": [
    "sorted(df['FlaggedData_YN'].unique())"
   ]
  },
  {
   "cell_type": "code",
   "execution_count": 359,
   "id": "eb6af5e4-897a-4597-bc94-68a282c25b58",
   "metadata": {},
   "outputs": [],
   "source": [
    "df['OpsReviewFlaggedData_Comment'] = df['OpsReviewFlaggedData_Comment'].astype(str)"
   ]
  },
  {
   "cell_type": "code",
   "execution_count": 360,
   "id": "646b098e-61eb-4162-a3de-3dd2244e222d",
   "metadata": {},
   "outputs": [
    {
     "data": {
      "text/plain": [
       "['Sampling Period had mutliple moderate floods. Per protocol, mainstem samples taken 2 weeks post-flood but invert numbers very low. Invert Data should be analyzed with caution.',\n",
       " 'nan']"
      ]
     },
     "execution_count": 360,
     "metadata": {},
     "output_type": "execute_result"
    }
   ],
   "source": [
    "sorted(df['OpsReviewFlaggedData_Comment'].unique())"
   ]
  },
  {
   "cell_type": "code",
   "execution_count": 361,
   "id": "05be8636-db8b-4049-9311-b3fd17062c02",
   "metadata": {},
   "outputs": [],
   "source": [
    "# Omitted DETimeStamp in the QC review"
   ]
  }
 ],
 "metadata": {
  "kernelspec": {
   "display_name": "Python 3 (ipykernel)",
   "language": "python",
   "name": "python3"
  },
  "language_info": {
   "codemirror_mode": {
    "name": "ipython",
    "version": 3
   },
   "file_extension": ".py",
   "mimetype": "text/x-python",
   "name": "python",
   "nbconvert_exporter": "python",
   "pygments_lexer": "ipython3",
   "version": "3.10.15"
  }
 },
 "nbformat": 4,
 "nbformat_minor": 5
}
